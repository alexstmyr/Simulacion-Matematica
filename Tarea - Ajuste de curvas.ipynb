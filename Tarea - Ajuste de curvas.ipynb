{
 "cells": [
  {
   "cell_type": "markdown",
   "metadata": {},
   "source": [
    "# Tarea - Ajuste de curvas"
   ]
  },
  {
   "cell_type": "code",
   "execution_count": 3,
   "metadata": {},
   "outputs": [],
   "source": [
    "import numpy as np\n",
    "import pandas as pd\n",
    "import matplotlib.pyplot as plt"
   ]
  },
  {
   "cell_type": "markdown",
   "metadata": {},
   "source": [
    "---\n",
    "### Problema 1\n",
    "\n",
    "Los siguientes datos representan el costo en dólares de la electricidad según Western Electricity Coordinating Council desde el 2014 (y su pronóstico para el 2040)\n",
    "\n",
    "Tomado de:\n",
    "https://www.quandl.com/data/EIA/AEO_2016_REF_NO_CPP_PRCE_NA_COMM_NA_ELC_NA_WECCRKS_NCNTPKWH_A-Electricity-End-Use-Prices-Commercial-Western-Electricity-Coordinating-Council-Rockies-No-CPP-AEO2016"
   ]
  },
  {
   "cell_type": "code",
   "execution_count": 4,
   "metadata": {},
   "outputs": [],
   "source": [
    "import numpy as np\n",
    "# Datos extraidos de la página de quandl\n",
    "data = np.array([10.051101,  9.259127,  9.444813,  9.557723,  9.977324, 10.298326,\n",
    "       10.447217, 10.550506, 10.590784, 10.657418, 10.743085, 10.831965,\n",
    "       10.988435, 11.153055, 11.313326, 11.557165, 11.860136, 12.122511,\n",
    "       12.356448, 12.611391, 12.814569, 13.111372, 13.357134, 13.559012,\n",
    "       13.85861 , 14.135924, 14.436149])"
   ]
  },
  {
   "cell_type": "markdown",
   "metadata": {},
   "source": [
    "1. Ajuste estos datos a polinomios de grado 1 hasta 3 (los datos en $x$ corresponden a los años de 2014 a 2040, sin embargo son valores muy grandes para elevarlos a una potencia, use una representación para estos años, por ejemplo $2014 \\rightarrow 0$ y $2040\\rightarrow 26$).\n",
    "\n",
    "2. Muestre las tres curvas ajustadas junto a los datos de los costos en un solo gráfico"
   ]
  },
  {
   "cell_type": "markdown",
   "metadata": {},
   "source": [
    "### Polinomio grado 1"
   ]
  },
  {
   "cell_type": "code",
   "execution_count": 5,
   "metadata": {},
   "outputs": [
    {
     "data": {
      "text/plain": [
       "27"
      ]
     },
     "execution_count": 5,
     "metadata": {},
     "output_type": "execute_result"
    }
   ],
   "source": [
    "x = np.linspace(0,26,27)\n",
    "y = data\n",
    "m = len(x)\n",
    "m"
   ]
  },
  {
   "cell_type": "code",
   "execution_count": 6,
   "metadata": {},
   "outputs": [],
   "source": [
    "def costo_electricidad (beta, X, y):\n",
    "    beta = np.reshape(beta,[2,-1])\n",
    "    y_pred = X @ beta\n",
    "    return ((y-y_pred).T @ (y-y_pred))[0][0]"
   ]
  },
  {
   "cell_type": "code",
   "execution_count": 7,
   "metadata": {},
   "outputs": [],
   "source": [
    "# Construyendo la matriz\n",
    "ones = np.ones([m,1]) #26 renglones y 1 columna\n",
    "x_1 = np.reshape(x,[m,-1])\n",
    "X = np.hstack((ones,x_1))"
   ]
  },
  {
   "cell_type": "code",
   "execution_count": 8,
   "metadata": {},
   "outputs": [],
   "source": [
    "beta_inicial = np.random.rand(2) #Polinomio de grado 1 tiene dos elementos\n",
    "y = np.reshape(y,[m,-1])"
   ]
  },
  {
   "cell_type": "code",
   "execution_count": 9,
   "metadata": {},
   "outputs": [
    {
     "data": {
      "text/plain": [
       "754.2160522092399"
      ]
     },
     "execution_count": 9,
     "metadata": {},
     "output_type": "execute_result"
    }
   ],
   "source": [
    "costo_electricidad(beta_inicial,X,y)"
   ]
  },
  {
   "cell_type": "code",
   "execution_count": 10,
   "metadata": {},
   "outputs": [
    {
     "data": {
      "text/plain": [
       "      fun: 2.3704889518149237\n",
       " hess_inv: array([[ 0.07010582, -0.00396825],\n",
       "       [-0.00396825,  0.00030525]])\n",
       "      jac: array([-2.62260437e-06, -1.18911266e-05])\n",
       "  message: 'Desired error not necessarily achieved due to precision loss.'\n",
       "     nfev: 79\n",
       "      nit: 3\n",
       "     njev: 23\n",
       "   status: 2\n",
       "  success: False\n",
       "        x: array([9.11567619, 0.18667056])"
      ]
     },
     "execution_count": 10,
     "metadata": {},
     "output_type": "execute_result"
    }
   ],
   "source": [
    "import scipy.optimize as opt\n",
    "\n",
    "sol = opt.minimize(costo_electricidad, beta_inicial, args=(X,y))\n",
    "sol"
   ]
  },
  {
   "cell_type": "markdown",
   "metadata": {},
   "source": [
    "### Polinomio de grado 2"
   ]
  },
  {
   "cell_type": "code",
   "execution_count": 11,
   "metadata": {},
   "outputs": [],
   "source": [
    "def costo_electricidad (beta, X, y):\n",
    "    beta = np.reshape(beta,[3,-1]) # Ahora beta tiene tres elementos\n",
    "    y_pred = X @ beta\n",
    "    return ((y-y_pred).T @ (y-y_pred))[0][0]\n",
    "\n",
    "# Construyendo la matriz X\n",
    "ones = np.ones([m,1]) #26 renglones y 1 columna\n",
    "x_1 = np.reshape(x,[m,-1])\n",
    "x_2 = np.reshape(x**2,[m,-1])\n",
    "X = np.hstack((ones,x_1,x_2))\n",
    "\n",
    "beta_inicial = np.random.rand(3) #Polinomio de grado 2 tiene tres elementos\n",
    "y = np.reshape(y,[m,-1])"
   ]
  },
  {
   "cell_type": "code",
   "execution_count": 12,
   "metadata": {},
   "outputs": [
    {
     "data": {
      "text/plain": [
       "1422247.5260060797"
      ]
     },
     "execution_count": 12,
     "metadata": {},
     "output_type": "execute_result"
    }
   ],
   "source": [
    "costo_electricidad(beta_inicial,X,y)"
   ]
  },
  {
   "cell_type": "code",
   "execution_count": 13,
   "metadata": {
    "scrolled": true
   },
   "outputs": [
    {
     "data": {
      "text/plain": [
       "      fun: 0.8443845194032291\n",
       " hess_inv: array([[ 1.44227122e-01, -2.17572334e-02,  6.84184828e-04],\n",
       "       [-2.17572334e-02,  4.57458458e-03, -1.64204163e-04],\n",
       "       [ 6.84184828e-04, -1.64204163e-04,  6.31552750e-06]])\n",
       "      jac: array([0.00000000e+00, 1.49011612e-08, 1.49011612e-08])\n",
       "  message: 'Optimization terminated successfully.'\n",
       "     nfev: 52\n",
       "      nit: 9\n",
       "     njev: 13\n",
       "   status: 0\n",
       "  success: True\n",
       "        x: array([9.59128645e+00, 7.25241277e-02, 4.39024721e-03])"
      ]
     },
     "execution_count": 13,
     "metadata": {},
     "output_type": "execute_result"
    }
   ],
   "source": [
    "opt.minimize(costo_electricidad, beta_inicial,args=(X,y))"
   ]
  },
  {
   "cell_type": "markdown",
   "metadata": {},
   "source": [
    "### Polinomio de grado 3"
   ]
  },
  {
   "cell_type": "code",
   "execution_count": 14,
   "metadata": {},
   "outputs": [],
   "source": [
    "def costo_electricidad (beta, X, y):\n",
    "    beta = np.reshape(beta,[4,-1]) # Ahora beta tiene cuatro elementos\n",
    "    y_pred = X @ beta\n",
    "    return ((y-y_pred).T @ (y-y_pred))[0][0]\n",
    "\n",
    "# Construyendo la matriz X\n",
    "ones = np.ones([m,1]) #26 renglones y 1 columna\n",
    "x_1 = np.reshape(x,[m,-1])\n",
    "x_2 = np.reshape(x**2,[m,-1])\n",
    "x_3 = np.reshape(x**3,[m,-1])\n",
    "X = np.hstack((ones,x_1,x_2,x_3))\n",
    "\n",
    "beta_inicial = np.random.rand(4) #Polinomio de grado 3 tiene cuatro elementos\n",
    "y = np.reshape(y,[m,-1])"
   ]
  },
  {
   "cell_type": "code",
   "execution_count": 15,
   "metadata": {},
   "outputs": [
    {
     "data": {
      "text/plain": [
       "4997872.714518987"
      ]
     },
     "execution_count": 15,
     "metadata": {},
     "output_type": "execute_result"
    }
   ],
   "source": [
    "costo_electricidad(beta_inicial,X,y)"
   ]
  },
  {
   "cell_type": "code",
   "execution_count": 16,
   "metadata": {
    "scrolled": true
   },
   "outputs": [
    {
     "data": {
      "text/plain": [
       "      fun: 0.8404242001948709\n",
       " hess_inv: array([[ 2.27239738e-01, -6.41155055e-02,  4.83489084e-03,\n",
       "        -1.06428427e-04],\n",
       "       [-6.41155055e-02,  2.61882448e-02, -2.28212868e-03,\n",
       "         5.43057658e-05],\n",
       "       [ 4.83489084e-03, -2.28212868e-03,  2.13850861e-04,\n",
       "        -5.32141846e-06],\n",
       "       [-1.06428427e-04,  5.43057658e-05, -5.32141846e-06,\n",
       "         1.36446616e-07]])\n",
       "      jac: array([-6.13085181e-03,  3.55845988e-02,  5.05480759e-01,  9.95173556e+00])\n",
       "  message: 'Desired error not necessarily achieved due to precision loss.'\n",
       "     nfev: 206\n",
       "      nit: 5\n",
       "     njev: 39\n",
       "   status: 2\n",
       "  success: False\n",
       "        x: array([9.56523309e+00, 8.53614279e-02, 3.14636400e-03, 3.17189193e-05])"
      ]
     },
     "execution_count": 16,
     "metadata": {},
     "output_type": "execute_result"
    }
   ],
   "source": [
    "opt.minimize(costo_electricidad,beta_inicial,args=(X,y))"
   ]
  },
  {
   "cell_type": "markdown",
   "metadata": {},
   "source": [
    "## Gráfica"
   ]
  },
  {
   "cell_type": "code",
   "execution_count": 17,
   "metadata": {},
   "outputs": [
    {
     "data": {
      "image/png": "[encoded data removed]",
      "text/plain": [
       "<Figure size 432x288 with 1 Axes>"
      ]
     },
     "metadata": {
      "needs_background": "light"
     },
     "output_type": "display_data"
    }
   ],
   "source": [
    "y_1 = 9.11567637 + 0.18667055*x #Línea roja\n",
    "y_2 = 9.59128645e+00 + 7.25241240e-02*x + 4.39024861e-03*x**2 #Línea negra\n",
    "y_3 = 9.56539954e+00 + 8.52899052e-02*x + 3.15265122e-03*x**2 + 3.15634425e-05*x**3 #Línea verde\n",
    "\n",
    "%matplotlib inline\n",
    "plt.figure()\n",
    "plt.scatter(x,y)\n",
    "plt.plot(x,y_1, 'r')\n",
    "plt.plot(x,y_2, 'k', linewidth =3)\n",
    "plt.plot(x,y_3, 'g')\n",
    "plt.grid()"
   ]
  },
  {
   "cell_type": "markdown",
   "metadata": {},
   "source": [
    "---"
   ]
  },
  {
   "cell_type": "markdown",
   "metadata": {},
   "source": [
    "___\n",
    "### Problema 2\n",
    "\n",
    "El archivo `population_data.csv` contiene información histórica anual de México relativa a la población, nacimientos y muertes desde el año 1950 hasta el año 2015. La primer columna corresponde a los años, la segunda a la población, la tercera a los nacimientos y la última a los decesos.\n",
    "\n",
    "Tomado de: https://en.wikipedia.org/wiki/Demographics_of_Mexico.\n",
    "\n",
    "Importe estos datos usando la función `read_csv` del paquete `pandas`\n",
    "\n",
    "1. Usando los años como variable independiente $x$ y la población como variable dependiente $y$, ajustar polinomios de grado 1 hasta grado 3.\n",
    "\n",
    "    * Mostrar en un solo gráfico los datos de población contra los años, y los polinomios ajustados.\n",
    "\n",
    "    * Graficar el error cuadrático acumulado contra el número de términos.\n",
    "\n",
    "2. Repetir el punto 1 usando los nacimientos como variable dependiente $y$. Grafique las curvas ajustadas junto con los datos de nacimientos. Vea en un gráfico el error acumulado."
   ]
  },
  {
   "cell_type": "markdown",
   "metadata": {},
   "source": [
    "---"
   ]
  },
  {
   "cell_type": "markdown",
   "metadata": {},
   "source": [
    "# 1)"
   ]
  },
  {
   "cell_type": "code",
   "execution_count": 71,
   "metadata": {},
   "outputs": [
    {
     "data": {
      "text/html": [
       "<div>\n",
       "<style scoped>\n",
       "    .dataframe tbody tr th:only-of-type {\n",
       "        vertical-align: middle;\n",
       "    }\n",
       "\n",
       "    .dataframe tbody tr th {\n",
       "        vertical-align: top;\n",
       "    }\n",
       "\n",
       "    .dataframe thead th {\n",
       "        text-align: right;\n",
       "    }\n",
       "</style>\n",
       "<table border=\"1\" class=\"dataframe\">\n",
       "  <thead>\n",
       "    <tr style=\"text-align: right;\">\n",
       "      <th></th>\n",
       "      <th>Year</th>\n",
       "      <th>Poblacion</th>\n",
       "      <th>Nacimientos</th>\n",
       "      <th>Decesos</th>\n",
       "    </tr>\n",
       "  </thead>\n",
       "  <tbody>\n",
       "    <tr>\n",
       "      <th>0</th>\n",
       "      <td>1950</td>\n",
       "      <td>28296</td>\n",
       "      <td>1174947</td>\n",
       "      <td>418430</td>\n",
       "    </tr>\n",
       "    <tr>\n",
       "      <th>1</th>\n",
       "      <td>1951</td>\n",
       "      <td>29110</td>\n",
       "      <td>1183788</td>\n",
       "      <td>458238</td>\n",
       "    </tr>\n",
       "    <tr>\n",
       "      <th>2</th>\n",
       "      <td>1952</td>\n",
       "      <td>29980</td>\n",
       "      <td>1195209</td>\n",
       "      <td>408823</td>\n",
       "    </tr>\n",
       "    <tr>\n",
       "      <th>3</th>\n",
       "      <td>1953</td>\n",
       "      <td>30904</td>\n",
       "      <td>1261775</td>\n",
       "      <td>446127</td>\n",
       "    </tr>\n",
       "    <tr>\n",
       "      <th>4</th>\n",
       "      <td>1954</td>\n",
       "      <td>31880</td>\n",
       "      <td>1339837</td>\n",
       "      <td>378752</td>\n",
       "    </tr>\n",
       "    <tr>\n",
       "      <th>...</th>\n",
       "      <td>...</td>\n",
       "      <td>...</td>\n",
       "      <td>...</td>\n",
       "      <td>...</td>\n",
       "    </tr>\n",
       "    <tr>\n",
       "      <th>61</th>\n",
       "      <td>2011</td>\n",
       "      <td>115683</td>\n",
       "      <td>2586287</td>\n",
       "      <td>590693</td>\n",
       "    </tr>\n",
       "    <tr>\n",
       "      <th>62</th>\n",
       "      <td>2012</td>\n",
       "      <td>117054</td>\n",
       "      <td>2498880</td>\n",
       "      <td>602354</td>\n",
       "    </tr>\n",
       "    <tr>\n",
       "      <th>63</th>\n",
       "      <td>2013</td>\n",
       "      <td>118395</td>\n",
       "      <td>2478889</td>\n",
       "      <td>623599</td>\n",
       "    </tr>\n",
       "    <tr>\n",
       "      <th>64</th>\n",
       "      <td>2014</td>\n",
       "      <td>119713</td>\n",
       "      <td>2463420</td>\n",
       "      <td>633641</td>\n",
       "    </tr>\n",
       "    <tr>\n",
       "      <th>65</th>\n",
       "      <td>2015</td>\n",
       "      <td>121005</td>\n",
       "      <td>2353596</td>\n",
       "      <td>655694</td>\n",
       "    </tr>\n",
       "  </tbody>\n",
       "</table>\n",
       "<p>66 rows × 4 columns</p>\n",
       "</div>"
      ],
      "text/plain": [
       "    Year  Poblacion  Nacimientos  Decesos\n",
       "0   1950      28296      1174947   418430\n",
       "1   1951      29110      1183788   458238\n",
       "2   1952      29980      1195209   408823\n",
       "3   1953      30904      1261775   446127\n",
       "4   1954      31880      1339837   378752\n",
       "..   ...        ...          ...      ...\n",
       "61  2011     115683      2586287   590693\n",
       "62  2012     117054      2498880   602354\n",
       "63  2013     118395      2478889   623599\n",
       "64  2014     119713      2463420   633641\n",
       "65  2015     121005      2353596   655694\n",
       "\n",
       "[66 rows x 4 columns]"
      ]
     },
     "execution_count": 71,
     "metadata": {},
     "output_type": "execute_result"
    }
   ],
   "source": [
    "data = pd.read_csv(\"population_data.csv\")\n",
    "data"
   ]
  },
  {
   "cell_type": "code",
   "execution_count": 72,
   "metadata": {},
   "outputs": [
    {
     "data": {
      "text/plain": [
       "[28296,\n",
       " 29110,\n",
       " 29980,\n",
       " 30904,\n",
       " 31880,\n",
       " 32906,\n",
       " 33978,\n",
       " 35095,\n",
       " 36253,\n",
       " 37448,\n",
       " 38677,\n",
       " 39939,\n",
       " 41234,\n",
       " 42564,\n",
       " 43931,\n",
       " 45339,\n",
       " 46784,\n",
       " 48264,\n",
       " 49788,\n",
       " 51361,\n",
       " 52988,\n",
       " 54669,\n",
       " 56396,\n",
       " 58156,\n",
       " 59931,\n",
       " 61708,\n",
       " 63486,\n",
       " 65261,\n",
       " 67013,\n",
       " 68715,\n",
       " 70353,\n",
       " 71916,\n",
       " 73416,\n",
       " 74880,\n",
       " 76351,\n",
       " 77859,\n",
       " 79410,\n",
       " 80999,\n",
       " 82635,\n",
       " 84327,\n",
       " 86077,\n",
       " 87890,\n",
       " 89758,\n",
       " 91654,\n",
       " 93542,\n",
       " 95393,\n",
       " 97202,\n",
       " 98969,\n",
       " 100679,\n",
       " 102317,\n",
       " 103874,\n",
       " 105340,\n",
       " 106724,\n",
       " 108056,\n",
       " 109382,\n",
       " 110732,\n",
       " 112117,\n",
       " 113530,\n",
       " 114968,\n",
       " 116423,\n",
       " 114255,\n",
       " 115683,\n",
       " 117054,\n",
       " 118395,\n",
       " 119713,\n",
       " 121005]"
      ]
     },
     "execution_count": 72,
     "metadata": {},
     "output_type": "execute_result"
    }
   ],
   "source": [
    "x = np.linspace(0,65,66)\n",
    "y = data.Poblacion.tolist()\n",
    "y"
   ]
  },
  {
   "cell_type": "markdown",
   "metadata": {},
   "source": [
    "### Polinomio grado 1"
   ]
  },
  {
   "cell_type": "code",
   "execution_count": 73,
   "metadata": {},
   "outputs": [
    {
     "data": {
      "text/plain": [
       "66"
      ]
     },
     "execution_count": 73,
     "metadata": {},
     "output_type": "execute_result"
    }
   ],
   "source": [
    "size = len(y)\n",
    "size"
   ]
  },
  {
   "cell_type": "code",
   "execution_count": 74,
   "metadata": {},
   "outputs": [],
   "source": [
    "def funcion (beta, X, y):\n",
    "    beta = np.reshape(beta,[2,-1]) # Ahora beta tiene dos elementos\n",
    "    y_pred = X @ beta\n",
    "    return ((y-y_pred).T @ (y-y_pred))[0][0]\n",
    "\n",
    "# Construyendo la matriz X\n",
    "ones = np.ones([size,1]) #66 renglones y 1 columna\n",
    "x_1 = np.reshape(x,[size,-1])\n",
    "X = np.hstack((ones,x_1))\n",
    "\n",
    "beta_inicial = np.random.rand(2) #Polinomio de grado 1 tiene dos elementos\n",
    "y = np.reshape(y,[size,-1])"
   ]
  },
  {
   "cell_type": "code",
   "execution_count": 75,
   "metadata": {},
   "outputs": [
    {
     "data": {
      "text/plain": [
       "421560188103.0311"
      ]
     },
     "execution_count": 75,
     "metadata": {},
     "output_type": "execute_result"
    }
   ],
   "source": [
    "funcion(beta_inicial,X,y)"
   ]
  },
  {
   "cell_type": "code",
   "execution_count": 76,
   "metadata": {},
   "outputs": [
    {
     "data": {
      "text/plain": [
       "      fun: 212137169.58482027\n",
       " hess_inv: array([[ 2.96291180e-02, -6.78527656e-04],\n",
       "       [-6.78527656e-04,  2.08768815e-05]])\n",
       "      jac: array([ 0., -4.])\n",
       "  message: 'Desired error not necessarily achieved due to precision loss.'\n",
       "     nfev: 123\n",
       "      nit: 6\n",
       "     njev: 38\n",
       "   status: 2\n",
       "  success: False\n",
       "        x: array([24138.06483864,  1543.97227718])"
      ]
     },
     "execution_count": 76,
     "metadata": {},
     "output_type": "execute_result"
    }
   ],
   "source": [
    "opt.minimize(funcion,beta_inicial,args=(X,y))"
   ]
  },
  {
   "cell_type": "markdown",
   "metadata": {},
   "source": [
    "### Polinomio grado 2"
   ]
  },
  {
   "cell_type": "code",
   "execution_count": 77,
   "metadata": {},
   "outputs": [],
   "source": [
    "def funcion (beta, X, y):\n",
    "    beta = np.reshape(beta,[3,-1]) # Ahora beta tiene tres elementos\n",
    "    y_pred = X @ beta\n",
    "    return ((y-y_pred).T @ (y-y_pred))[0][0]\n",
    "\n",
    "# Construyendo la matriz X\n",
    "ones = np.ones([size,1]) #66 renglones y 1 columna\n",
    "x_1 = np.reshape(x,[size,-1])\n",
    "x_2 = np.reshape(x**2,[size,-1])\n",
    "X = np.hstack((ones,x_1,x_2))\n",
    "\n",
    "beta_inicial = np.random.rand(3) #Polinomio de grado 2 tiene tres elementos\n",
    "y = np.reshape(y,[size,-1])"
   ]
  },
  {
   "cell_type": "code",
   "execution_count": 78,
   "metadata": {},
   "outputs": [
    {
     "data": {
      "text/plain": [
       "408930401488.327"
      ]
     },
     "execution_count": 78,
     "metadata": {},
     "output_type": "execute_result"
    }
   ],
   "source": [
    "funcion(beta_inicial,X,y)"
   ]
  },
  {
   "cell_type": "code",
   "execution_count": 79,
   "metadata": {},
   "outputs": [
    {
     "data": {
      "text/plain": [
       "      fun: 210941621.62686455\n",
       " hess_inv: array([[ 6.40113835e-02, -3.90661584e-03,  4.96892759e-05],\n",
       "       [-3.90661584e-03,  3.23863185e-04, -4.66324980e-06],\n",
       "       [ 4.96892759e-05, -4.66324980e-06,  7.17689561e-08]])\n",
       "      jac: array([0., 2., 0.])\n",
       "  message: 'Desired error not necessarily achieved due to precision loss.'\n",
       "     nfev: 194\n",
       "      nit: 8\n",
       "     njev: 46\n",
       "   status: 2\n",
       "  success: False\n",
       "        x: array([2.44254385e+04, 1.51702248e+03, 4.14654601e-01])"
      ]
     },
     "execution_count": 79,
     "metadata": {},
     "output_type": "execute_result"
    }
   ],
   "source": [
    "opt.minimize(funcion,beta_inicial,args=(X,y))"
   ]
  },
  {
   "cell_type": "markdown",
   "metadata": {},
   "source": [
    "### Polinomio de grado 3"
   ]
  },
  {
   "cell_type": "code",
   "execution_count": 80,
   "metadata": {},
   "outputs": [],
   "source": [
    "def funcion (beta, X, y):\n",
    "    beta = np.reshape(beta,[4,-1]) # Ahora beta tiene cuatro elementos\n",
    "    y_pred = X @ beta\n",
    "    return ((y-y_pred).T @ (y-y_pred))[0][0]\n",
    "\n",
    "# Construyendo la matriz X\n",
    "ones = np.ones([size,1]) #66 renglones y 1 columna\n",
    "x_1 = np.reshape(x,[size,-1])\n",
    "x_2 = np.reshape(x**2,[size,-1])\n",
    "x_3 = np.reshape(x**3,[size,-1])\n",
    "X = np.hstack((ones,x_1,x_2,x_3))\n",
    "\n",
    "beta_inicial = np.random.rand(4) #Polinomio de grado 3 tiene cuatro elementos\n",
    "y = np.reshape(y,[size,-1])"
   ]
  },
  {
   "cell_type": "code",
   "execution_count": 81,
   "metadata": {},
   "outputs": [
    {
     "data": {
      "text/plain": [
       "148022208320.3791"
      ]
     },
     "execution_count": 81,
     "metadata": {},
     "output_type": "execute_result"
    }
   ],
   "source": [
    "funcion(beta_inicial,X,y)"
   ]
  },
  {
   "cell_type": "code",
   "execution_count": 82,
   "metadata": {
    "scrolled": true
   },
   "outputs": [
    {
     "data": {
      "text/plain": [
       "      fun: 25240442.638538513\n",
       " hess_inv: array([[ 4.10375137e-02, -3.47288733e-06, -7.10359082e-05,\n",
       "         1.01093178e-06],\n",
       "       [-3.47288733e-06,  3.96373252e-07, -1.21329151e-08,\n",
       "         1.08392850e-10],\n",
       "       [-7.10359082e-05, -1.21329151e-08,  1.98599731e-07,\n",
       "        -3.09137360e-09],\n",
       "       [ 1.01093178e-06,  1.08392850e-10, -3.09137360e-09,\n",
       "         4.94135758e-11]])\n",
       "      jac: array([ -0.25,  -0.5 ,  -5.25, -11.75])\n",
       "  message: 'Desired error not necessarily achieved due to precision loss.'\n",
       "     nfev: 105\n",
       "      nit: 9\n",
       "     njev: 21\n",
       "   status: 2\n",
       "  success: False\n",
       "        x: array([ 2.84777372e+04,  7.39081276e+02,  3.05648091e+01, -3.09231314e-01])"
      ]
     },
     "execution_count": 82,
     "metadata": {},
     "output_type": "execute_result"
    }
   ],
   "source": [
    "opt.minimize(funcion,beta_inicial,args=(X,y))"
   ]
  },
  {
   "cell_type": "markdown",
   "metadata": {},
   "source": [
    "## Gráfico"
   ]
  },
  {
   "cell_type": "code",
   "execution_count": 83,
   "metadata": {},
   "outputs": [
    {
     "data": {
      "text/plain": [
       "<matplotlib.legend.Legend at 0x7fa463a80d00>"
      ]
     },
     "execution_count": 83,
     "metadata": {},
     "output_type": "execute_result"
    },
    {
     "data": {
      "image/png": "[encoded data removed]",
      "text/plain": [
       "<Figure size 432x288 with 1 Axes>"
      ]
     },
     "metadata": {
      "needs_background": "light"
     },
     "output_type": "display_data"
    }
   ],
   "source": [
    "y_1 = 24137.95765803 + 1543.97473038*x\n",
    "y_2 = 2.44255372e+04 + 1.51701643e+03*x + 4.14731712e-01*x**2\n",
    "y_3 = 2.84777602e+04 + 7.39078763e+02*x + 3.05648843e+01*x**2 -3.09231977e-01*x**3\n",
    "\n",
    "plt.figure()\n",
    "plt.scatter(x,y)\n",
    "plt.plot(x,y_1, 'r', label= 'Lineal')\n",
    "plt.plot(x,y_2, 'k', label='Cuadrático')\n",
    "plt.plot(x,y_3, 'g', label='Cúbico')\n",
    "plt.grid()\n",
    "plt.legend(loc='best')"
   ]
  },
  {
   "cell_type": "markdown",
   "metadata": {},
   "source": [
    "## Error cuadrático acumulado"
   ]
  },
  {
   "cell_type": "code",
   "execution_count": 84,
   "metadata": {},
   "outputs": [
    {
     "data": {
      "text/plain": [
       "<matplotlib.legend.Legend at 0x7fa463c28730>"
      ]
     },
     "execution_count": 84,
     "metadata": {},
     "output_type": "execute_result"
    },
    {
     "data": {
      "image/png": "[encoded data removed]",
      "text/plain": [
       "<Figure size 432x288 with 1 Axes>"
      ]
     },
     "metadata": {
      "needs_background": "light"
     },
     "output_type": "display_data"
    }
   ],
   "source": [
    "plt.figure()\n",
    "plt.scatter(1,421560188103.0311, label = 'Lineal')\n",
    "plt.scatter(2,408930401488.327, label = 'Cuadrático')\n",
    "plt.scatter(3,148022208320.3791, label = 'Cúbico')\n",
    "plt.grid()\n",
    "plt.legend(loc='best')"
   ]
  },
  {
   "cell_type": "markdown",
   "metadata": {},
   "source": [
    "# 2)"
   ]
  },
  {
   "cell_type": "code",
   "execution_count": 85,
   "metadata": {},
   "outputs": [],
   "source": [
    "x = np.linspace(0,65,66)\n",
    "y = data.Nacimientos.tolist()"
   ]
  },
  {
   "cell_type": "code",
   "execution_count": 86,
   "metadata": {
    "scrolled": true
   },
   "outputs": [
    {
     "data": {
      "text/plain": [
       "66"
      ]
     },
     "execution_count": 86,
     "metadata": {},
     "output_type": "execute_result"
    }
   ],
   "source": [
    "m = len(y)\n",
    "m"
   ]
  },
  {
   "cell_type": "markdown",
   "metadata": {},
   "source": [
    "### Polinomio de grado 1"
   ]
  },
  {
   "cell_type": "code",
   "execution_count": 87,
   "metadata": {},
   "outputs": [],
   "source": [
    "def funcion (beta, X, y):\n",
    "    beta = np.reshape(beta,[2,-1]) # Ahora beta tiene dos elementos\n",
    "    y_pred = X @ beta\n",
    "    return ((y-y_pred).T @ (y-y_pred))[0][0]\n",
    "\n",
    "# Construyendo la matriz X\n",
    "ones = np.ones([size,1]) #66 renglones y 1 columna\n",
    "x_1 = np.reshape(x,[m,-1])\n",
    "X = np.hstack((ones,x_1))\n",
    "\n",
    "beta_inicial = np.random.rand(2) #Polinomio de grado 1 tiene dos elementos\n",
    "y = np.reshape(y,[m,-1])"
   ]
  },
  {
   "cell_type": "code",
   "execution_count": 88,
   "metadata": {},
   "outputs": [
    {
     "data": {
      "text/plain": [
       "358556885183972.0"
      ]
     },
     "execution_count": 88,
     "metadata": {},
     "output_type": "execute_result"
    }
   ],
   "source": [
    "funcion(beta_inicial,X,y)"
   ]
  },
  {
   "cell_type": "code",
   "execution_count": 89,
   "metadata": {},
   "outputs": [
    {
     "data": {
      "text/plain": [
       "      fun: 4737918562498.449\n",
       " hess_inv: array([[ 2.96801546e-02, -6.79273993e-04],\n",
       "       [-6.79273993e-04,  2.08842867e-05]])\n",
       "      jac: array([0., 0.])\n",
       "  message: 'Optimization terminated successfully.'\n",
       "     nfev: 42\n",
       "      nit: 5\n",
       "     njev: 14\n",
       "   status: 0\n",
       "  success: True\n",
       "        x: array([1562381.44754827,   21990.12742321])"
      ]
     },
     "execution_count": 89,
     "metadata": {},
     "output_type": "execute_result"
    }
   ],
   "source": [
    "opt.minimize(funcion,beta_inicial,args=(X,y))"
   ]
  },
  {
   "cell_type": "markdown",
   "metadata": {},
   "source": [
    "### Polinomio de grado 2"
   ]
  },
  {
   "cell_type": "code",
   "execution_count": 90,
   "metadata": {},
   "outputs": [],
   "source": [
    "def funcion (beta, X, y):\n",
    "    beta = np.reshape(beta,[3,-1]) # Ahora beta tiene tres elementos\n",
    "    y_pred = X @ beta\n",
    "    return ((y-y_pred).T @ (y-y_pred))[0][0]\n",
    "\n",
    "# Construyendo la matriz X\n",
    "ones = np.ones([size,1]) #66 renglones y 1 columna\n",
    "x_1 = np.reshape(x,[m,-1])\n",
    "x_2 = np.reshape(x**2,[m,-1])\n",
    "X = np.hstack((ones,x_1,x_2))\n",
    "\n",
    "beta_inicial = np.random.rand(3) #Polinomio de grado 2 tiene tres elementos\n",
    "y = np.reshape(y,[m,-1])"
   ]
  },
  {
   "cell_type": "code",
   "execution_count": 91,
   "metadata": {},
   "outputs": [
    {
     "data": {
      "text/plain": [
       "358219182162892.0"
      ]
     },
     "execution_count": 91,
     "metadata": {},
     "output_type": "execute_result"
    }
   ],
   "source": [
    "funcion(beta_inicial,X,y)"
   ]
  },
  {
   "cell_type": "code",
   "execution_count": 92,
   "metadata": {},
   "outputs": [
    {
     "data": {
      "text/plain": [
       "      fun: 492921365113.54987\n",
       " hess_inv: array([[ 6.30316291e-02, -3.82892896e-03,  4.85160583e-05],\n",
       "       [-3.82892896e-03,  3.17398169e-04, -4.56422505e-06],\n",
       "       [ 4.85160583e-05, -4.56422505e-06,  7.02651779e-08]])\n",
       "      jac: array([    0.,  4096., 53248.])\n",
       "  message: 'Desired error not necessarily achieved due to precision loss.'\n",
       "     nfev: 148\n",
       "      nit: 7\n",
       "     njev: 35\n",
       "   status: 2\n",
       "  success: False\n",
       "        x: array([ 1.02090685e+06,  7.27904841e+04, -7.81723481e+02])"
      ]
     },
     "execution_count": 92,
     "metadata": {},
     "output_type": "execute_result"
    }
   ],
   "source": [
    "opt.minimize(funcion,beta_inicial,args=(X,y))"
   ]
  },
  {
   "cell_type": "markdown",
   "metadata": {},
   "source": [
    "### Polinomio de grado 3"
   ]
  },
  {
   "cell_type": "code",
   "execution_count": 93,
   "metadata": {},
   "outputs": [],
   "source": [
    "def funcion (beta, X, y):\n",
    "    beta = np.reshape(beta,[4,-1]) # Ahora beta tiene cuatro elementos\n",
    "    y_pred = X @ beta\n",
    "    return ((y-y_pred).T @ (y-y_pred))[0][0]\n",
    "\n",
    "# Construyendo la matriz X\n",
    "ones = np.ones([size,1]) #66 renglones y 1 columna\n",
    "x_1 = np.reshape(x,[m,-1])\n",
    "x_2 = np.reshape(x**2,[m,-1])\n",
    "x_3 = np.reshape(x**3,[m,-1])\n",
    "X = np.hstack((ones,x_1,x_2,x_3))\n",
    "\n",
    "beta_inicial = np.random.rand(4) #Polinomio de grado 3 tiene cuatro elementos\n",
    "y = np.reshape(y,[m,-1])"
   ]
  },
  {
   "cell_type": "code",
   "execution_count": 94,
   "metadata": {},
   "outputs": [
    {
     "data": {
      "text/plain": [
       "341638706422692.06"
      ]
     },
     "execution_count": 94,
     "metadata": {},
     "output_type": "execute_result"
    }
   ],
   "source": [
    "funcion(beta_inicial,X,y)"
   ]
  },
  {
   "cell_type": "code",
   "execution_count": 95,
   "metadata": {},
   "outputs": [
    {
     "data": {
      "text/plain": [
       "      fun: 441782385531.0968\n",
       " hess_inv: array([[ 3.55818616e-02, -1.13686838e-13, -4.57636808e-05,\n",
       "         6.97787008e-07],\n",
       "       [-1.13686838e-13,  1.42108547e-14, -5.27355937e-16,\n",
       "         4.98732999e-18],\n",
       "       [-4.57636808e-05, -5.27355937e-16,  1.76247172e-07,\n",
       "        -2.71569137e-09],\n",
       "       [ 6.97787008e-07,  4.98732999e-18, -2.71569137e-09,\n",
       "         4.36179348e-11]])\n",
       "      jac: array([      0.,       0.,   24576., 1466368.])\n",
       "  message: 'Desired error not necessarily achieved due to precision loss.'\n",
       "     nfev: 266\n",
       "      nit: 9\n",
       "     njev: 51\n",
       "   status: 2\n",
       "  success: False\n",
       "        x: array([ 1.08847079e+06,  5.98563680e+04, -2.80886866e+02, -5.13455442e+00])"
      ]
     },
     "execution_count": 95,
     "metadata": {},
     "output_type": "execute_result"
    }
   ],
   "source": [
    "opt.minimize(funcion,beta_inicial,args=(X,y))"
   ]
  },
  {
   "cell_type": "markdown",
   "metadata": {},
   "source": [
    "## Gráfico"
   ]
  },
  {
   "cell_type": "code",
   "execution_count": 97,
   "metadata": {},
   "outputs": [
    {
     "data": {
      "text/plain": [
       "<matplotlib.legend.Legend at 0x7fa463d74130>"
      ]
     },
     "execution_count": 97,
     "metadata": {},
     "output_type": "execute_result"
    },
    {
     "data": {
      "image/png": "[encoded data removed]",
      "text/plain": [
       "<Figure size 432x288 with 1 Axes>"
      ]
     },
     "metadata": {
      "needs_background": "light"
     },
     "output_type": "display_data"
    }
   ],
   "source": [
    "y_1 = 1562803.91979224 + 21979.81904837*x\n",
    "y_2 = 1.02112414e+06 + 7.27774701e+04*x -7.81559834e+02*x**2\n",
    "y_3 = 1.08846812e+06 + 5.98580182e+04*x -2.80956733e+02*x**2 -5.13382554e+00*x**3\n",
    "\n",
    "plt.figure()\n",
    "plt.scatter(x,y)\n",
    "plt.plot(x,y_1, 'r', label='Lineal')\n",
    "plt.plot(x,y_2, 'k', label='Cuadrático')\n",
    "plt.plot(x,y_3, 'g', label='Cúbico')\n",
    "plt.grid()\n",
    "plt.legend(loc='best')"
   ]
  },
  {
   "cell_type": "markdown",
   "metadata": {},
   "source": [
    "## Error acumulado"
   ]
  },
  {
   "cell_type": "code",
   "execution_count": 98,
   "metadata": {},
   "outputs": [
    {
     "data": {
      "text/plain": [
       "<matplotlib.legend.Legend at 0x7fa463f04e80>"
      ]
     },
     "execution_count": 98,
     "metadata": {},
     "output_type": "execute_result"
    },
    {
     "data": {
      "image/png": "[encoded data removed]",
      "text/plain": [
       "<Figure size 432x288 with 1 Axes>"
      ]
     },
     "metadata": {
      "needs_background": "light"
     },
     "output_type": "display_data"
    }
   ],
   "source": [
    "plt.figure()\n",
    "plt.scatter(1,358556885183972.0, label = 'Lineal')\n",
    "plt.scatter(2,358219182162892.0, label = 'Cuadrático')\n",
    "plt.scatter(3,341638706422692.06, label = 'Cúbico')\n",
    "plt.grid()\n",
    "plt.legend(loc='best')"
   ]
  },
  {
   "cell_type": "code",
   "execution_count": null,
   "metadata": {},
   "outputs": [],
   "source": []
  }
 ],
 "metadata": {
  "kernelspec": {
   "display_name": "Python 3 (ipykernel)",
   "language": "python",
   "name": "python3"
  },
  "language_info": {
   "codemirror_mode": {
    "name": "ipython",
    "version": 3
   },
   "file_extension": ".py",
   "mimetype": "text/x-python",
   "name": "python",
   "nbconvert_exporter": "python",
   "pygments_lexer": "ipython3",
   "version": "3.9.12"
  }
 },
 "nbformat": 4,
 "nbformat_minor": 2
}
