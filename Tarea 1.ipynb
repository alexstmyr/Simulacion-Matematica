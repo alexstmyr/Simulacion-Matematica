{
 "cells": [
  {
   "cell_type": "markdown",
   "id": "e8e0ad3b",
   "metadata": {},
   "source": [
    "# Simulación Matemática\n",
    "## Francisco Alexander Sotomayor Pineda\n"
   ]
  },
  {
   "cell_type": "markdown",
   "id": "597cde6a",
   "metadata": {},
   "source": [
    "## Introducción\n",
    "**Cosas sobre mí:**\n",
    "- Ingeniería financiera.\n",
    "- 19 años.\n",
    "- Me gusta el fútbol.\n",
    "- Me gusta investigar en internet.\n",
    "- Mi serie favorita es Game of Thrones y Attack on Titan.\n",
    "- Mi pasatiempo favorito es hacer ejercicio y salir con amigos.\n",
    "- Me gusta ver películas."
   ]
  },
  {
   "cell_type": "markdown",
   "id": "8c15f642",
   "metadata": {},
   "source": [
    "![](https://i0.wp.com/elrincon.tv/wp-content/uploads/2016/01/Critica-de-The-Big-Short-La-gran-apuesta.jpg?fit=593%2C389&ssl=1.jpg \"The Big Short Película\")"
   ]
  },
  {
   "cell_type": "markdown",
   "id": "d29f06be",
   "metadata": {},
   "source": [
    "$ y = mx+b $"
   ]
  },
  {
   "cell_type": "markdown",
   "id": "a7665cde",
   "metadata": {},
   "source": [
    "## Tema de interés"
   ]
  },
  {
   "cell_type": "markdown",
   "id": "da70557b",
   "metadata": {},
   "source": [
    "### Los ETF\n",
    "Muchas veces queremos invertir nuestro dinero para que nos pueda generar un ingresivo pasivo de manera segura y continua. Sin embargo, no todos tenemos el tiempo necesario para estar revisando constantemente la bolsa y los compartamientos que tienen las acciones y los distintos mercados que se desempeñan en esta. Es por eso que en los últimos años se han puesto de moda los *exchange traded funds* o *ETFs* por sus siglas en inglés. Los ETF son operan de una manera muy similar a los fondos de inversión, pues estos tambiuén aglomeran una serie de acciones que generalmente tienen varias características en común, como lo pueden ser acciones que pertenezcan a algún producto en específico (carbón, petroleo, gas natural, oro, etc.) o que simplemente sigan la trayectoria de algún índice en específico (S&P 500, Nasdaq, Nikkei 225, Eurostoxx, etc.) La mayor ventaja de los ETFs frente a los fondos de inversión es que los ETF cotizan en la bolsa de valores y generalmente tienen un precio accesible, lo cual permite invertir sin la necesidad de desembolsar una cantidad de dinero importante o sin la necesidad de firmar un contrato forzoso. \n",
    "Algunos de los ETFs más populares dentro del mundo inversionista son: \n",
    "1. SPY\n",
    "2. IVV \n",
    "3. VOO\n",
    "4. QQQ\n",
    "5. IVW"
   ]
  }
 ],
 "metadata": {
  "kernelspec": {
   "display_name": "Python 3 (ipykernel)",
   "language": "python",
   "name": "python3"
  },
  "language_info": {
   "codemirror_mode": {
    "name": "ipython",
    "version": 3
   },
   "file_extension": ".py",
   "mimetype": "text/x-python",
   "name": "python",
   "nbconvert_exporter": "python",
   "pygments_lexer": "ipython3",
   "version": "3.9.12"
  }
 },
 "nbformat": 4,
 "nbformat_minor": 5
}
