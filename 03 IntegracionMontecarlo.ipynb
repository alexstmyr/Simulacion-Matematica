{
 "cells": [
  {
   "cell_type": "markdown",
   "metadata": {},
   "source": [
    "# Integración numérica Montecarlo\n",
    "\n",
    "**Referencia:**\n",
    "- https://ocw.mit.edu/courses/mechanical-engineering/2-086-numerical-computation-for-mechanical-engineers-fall-2014/nutshells-guis/MIT2_086F14_Monte_Carlo.pdf\n",
    "- http://ta.twi.tudelft.nl/mf/users/oosterle/oosterlee/lec8-hit-2009.pdf\n",
    "- Sauer, Timothy. *Análisis Numérico*, 2da. Edición, ISBN: 978-607-32-2059-0.\n",
    "\n",
    "<img style=\"float: center; margin: 0px 0px 15px 15px;\" src=\"https://upload.wikimedia.org/wikipedia/commons/f/f2/Integral_as_region_under_curve.svg\" width=\"300px\" height=\"100px\" />\n",
    "\n"
   ]
  },
  {
   "cell_type": "markdown",
   "metadata": {},
   "source": [
    "## Motivación\n",
    "\n",
    "En análisis de ingeniería, normalmente debemos evaluar integrales definidas sobre un dominio complejo o en un espacio de dimensión alta.\n",
    "\n",
    "> Por ejemplo, podríamos querer calcular:\n",
    "> - la deflexión en una viga de geometría complicada, \n",
    "> - el volumen de una parte tridimensional de una aeronave,\n",
    "> - o evaluar alguna medida de rendimiento (rentabilidad) en algún proceso que sea expresada como una integral de alguna función sin antiderivada primitiva (que se pueda expresar en términos de funciones elementales).\n",
    "\n",
    "A la mano tenemos herramientas de integración analítica cuando tanto el espacio de integración como la función a integrar son simples. Cuando la función a integrar es difícil (incluso, imposible) de integrar podemos aún recurrir a métodos numéricos de integración. \n",
    "\n",
    "> Desafortunadamente, los métodos determinísiticos de integración fallan cuando:\n",
    "> - la región es demasiado compleja para discretizarla,\n",
    "> - o la función a integrar es demasiado irregular,\n",
    "> - o la convergencia es demasiado lenta debido a la alta dimensionalidad del espacio de integración (ver [Maldición de la dimensionalidad](https://es.wikipedia.org/wiki/Maldici%C3%B3n_de_la_dimensi%C3%B3n)).\n",
    "\n",
    "Por eso en esta clase veremos una *técnica alternativa de integración numérica*: **Integración Montecarlo**."
   ]
  },
  {
   "cell_type": "markdown",
   "metadata": {},
   "source": [
    "### Ejemplos de funciones sin antiderivada primitiva.\n",
    "\n",
    "De su curso de cálculo integral seguro recordarán (o estarán viendo) que existen funciones cuya integral no tiene primitiva. Es decir, **que no podemos encontrar una función que se pueda expresar en forma de funciones elementales cuya derivada sea tal función**.\n",
    "\n",
    "Esto **no significa que dicha función no se pueda integrar**, ya que sabemos que cualquier función continua es integrable (y la mayoría de funciones que vemos a ese nivel, lo son). Lo que ocurre es que no podemos expresar dicha integral de una forma sencilla (por ejemplo, en función de exponenciales, senos, cosenos, logaritmos...).\n",
    "\n",
    "Algunas integrales que no son elementales son:\n",
    "- $\\int e^{p(x)}\\text{d}x$, donde $p(x)$ es un polinomio de grado mayor o igual a dos.\n",
    "- $\\int \\frac{1}{log(x)}\\text{d}x$.\n",
    "- $\\int \\frac{sin(x)}{x}\\text{d}x$\n",
    "\n",
    "**Referencia:**\n",
    "- https://www.gaussianos.com/funciones-sin-primitiva-elemental/"
   ]
  },
  {
   "cell_type": "markdown",
   "metadata": {},
   "source": [
    "### Ejemplos de regiones difíciles de discretizar."
   ]
  },
  {
   "cell_type": "code",
   "execution_count": null,
   "metadata": {},
   "outputs": [],
   "source": [
    "from IPython.display import YouTubeVideo\n",
    "YouTubeVideo('Ti5zUD08w5s')"
   ]
  },
  {
   "cell_type": "code",
   "execution_count": null,
   "metadata": {},
   "outputs": [],
   "source": [
    "YouTubeVideo('jmsFC0mNayM')"
   ]
  },
  {
   "cell_type": "markdown",
   "metadata": {},
   "source": [
    "___\n",
    "## Integración Montecarlo tipo 1\n",
    "Se basa en la definición de *valor promedio* de una función y en el *valor esperado* de una *variable aleatoria uniforme*.\n",
    "\n",
    "Presentamos esto mediante un ejemplo.\n",
    "\n",
    "**Ejemplo.** Aproxime el área bajo la curva $y=(x-2)^2$ en el intervalo $\\left[0,1\\right]$.\n",
    "\n",
    "Veamos primero cómo luce dicha área."
   ]
  },
  {
   "cell_type": "markdown",
   "metadata": {},
   "source": [
    "$$ f(x) $$"
   ]
  },
  {
   "cell_type": "code",
   "execution_count": 20,
   "metadata": {},
   "outputs": [
    {
     "data": {
      "image/png": "[encoded data removed]",
      "text/plain": [
       "<Figure size 432x288 with 1 Axes>"
      ]
     },
     "metadata": {
      "needs_background": "light"
     },
     "output_type": "display_data"
    }
   ],
   "source": [
    "import matplotlib.pyplot as plt\n",
    "%matplotlib inline\n",
    "\n",
    "import numpy as np\n",
    "\n",
    "# Graficamos\n",
    "x = np.linspace(0, 1, 100)\n",
    "y = (x-2)**2\n",
    "plt.figure()\n",
    "plt.plot(x, y, \"k\", label=\"$(x-2)^2$\")\n",
    "plt.text(0.4, 1.5, \"$\\mathcal{D}$\", fontsize=20)\n",
    "plt.fill_between(x, y)\n",
    "plt.legend(loc=\"best\")\n",
    "plt.grid()\n"
   ]
  },
  {
   "cell_type": "markdown",
   "metadata": {},
   "source": [
    "Entonces, lo que queremos es aproximar el área de la región $\\mathcal{D}$. Llamaremos esta área $A(\\mathcal{D})$.\n",
    "\n",
    "De cálculo integral, sabemos que\n",
    "\n",
    "$$A(\\mathcal{D})=\\int_{0}^{1}y\\text{d}x=\\int_{0}^{1}(x-2)^2\\text{d}x.$$"
   ]
  },
  {
   "cell_type": "markdown",
   "metadata": {},
   "source": [
    "Por *definición*, el **valor promedio** de una función $f:\\left[a,b\\right]\\to\\mathbb{R}$ en un intervalo $\\left[a,b\\right]$ es\n",
    "\n",
    "$$\\frac{1}{b-a}\\int_{a}^{b}f(x)\\text{d}x.$$\n",
    "\n",
    "Entonces, el área bajo la curva $y=(x-2)^2$ es exactamente el valor promedio de $f(x)=(x-2)^2$ en $\\left[0,1\\right]$. Este valor promedio puede aproximarse mediante el promedio de los valores de la función en puntos aleatorios **uniformemente distribuidos** en el intervalo $\\left[0,1\\right]$. Es decir,\n",
    "\n",
    "$$A(\\mathcal{D})=\\int_{0}^{1}(x-2)^2\\text{d}x=\\int_{0}^{1}f(x)\\text{d}x\\approx \\frac{1}{N}\\sum_{i=1}^{N}f(u_i)=\\frac{1}{N}\\sum_{i=1}^{N}(u_i-2)^2$$,"
   ]
  },
  {
   "cell_type": "markdown",
   "metadata": {},
   "source": [
    "donde $u_i$ son realizaciones de la variable aleatoria $U\\sim\\mathcal{U}\\left[0,1\\right]$ ($U$ distribuye uniformemente en el intervalo $\\left[0,1\\right]$)."
   ]
  },
  {
   "cell_type": "code",
   "execution_count": 21,
   "metadata": {},
   "outputs": [
    {
     "data": {
      "text/plain": [
       "[<matplotlib.lines.Line2D at 0x7fc0e0424730>]"
      ]
     },
     "execution_count": 21,
     "metadata": {},
     "output_type": "execute_result"
    },
    {
     "data": {
      "image/png": "[encoded data removed]",
      "text/plain": [
       "<Figure size 432x288 with 1 Axes>"
      ]
     },
     "metadata": {
      "needs_background": "light"
     },
     "output_type": "display_data"
    }
   ],
   "source": [
    "plt.figure()\n",
    "plt.plot(x, y, \"k\", label=\"$(x-2)^2$\")\n",
    "plt.text(0.4, 1.5, \"$\\mathcal{D}$\", fontsize=20)\n",
    "plt.fill_between(x, y)\n",
    "plt.legend(loc=\"best\")\n",
    "plt.grid()\n",
    "\n",
    "N = 2000\n",
    "u = np.random.rand(N)\n",
    "plt.plot(u, (u-2)**2, \"xr\")\n"
   ]
  },
  {
   "cell_type": "markdown",
   "metadata": {},
   "source": [
    "**¿Cómo construir vectores de números aleatorios?**\n",
    "- Ver [numpy.random](https://docs.scipy.org/doc/numpy-1.10.0/reference/routines.random.html).\n",
    "\n",
    "En este caso necesitamos $N$ números aleatorios uniformemente distribuidos..."
   ]
  },
  {
   "cell_type": "code",
   "execution_count": 22,
   "metadata": {},
   "outputs": [
    {
     "data": {
      "text/plain": [
       "2.335042073533154"
      ]
     },
     "execution_count": 22,
     "metadata": {},
     "output_type": "execute_result"
    }
   ],
   "source": [
    "def f(x):\n",
    "    return (x-2)**2\n",
    "\n",
    "n = 100000\n",
    "\n",
    "np.random.seed(0)\n",
    "u = np.random.rand(n)\n",
    "# u = np.random.uniform(0,1,size=n)\n",
    "\n",
    "np.mean(f(u))\n"
   ]
  },
  {
   "cell_type": "markdown",
   "metadata": {},
   "source": [
    "Hagamos una tabla viendo:\n",
    "- cantidad de terminos\n",
    "- valor de la aproximacion\n",
    "- error relativo"
   ]
  },
  {
   "cell_type": "code",
   "execution_count": 23,
   "metadata": {},
   "outputs": [
    {
     "data": {
      "text/html": [
       "<div>\n",
       "<style scoped>\n",
       "    .dataframe tbody tr th:only-of-type {\n",
       "        vertical-align: middle;\n",
       "    }\n",
       "\n",
       "    .dataframe tbody tr th {\n",
       "        vertical-align: top;\n",
       "    }\n",
       "\n",
       "    .dataframe thead th {\n",
       "        text-align: right;\n",
       "    }\n",
       "</style>\n",
       "<table border=\"1\" class=\"dataframe\">\n",
       "  <thead>\n",
       "    <tr style=\"text-align: right;\">\n",
       "      <th></th>\n",
       "      <th>Aproximación</th>\n",
       "      <th>Error</th>\n",
       "    </tr>\n",
       "  </thead>\n",
       "  <tbody>\n",
       "    <tr>\n",
       "      <th>10.0</th>\n",
       "      <td>NaN</td>\n",
       "      <td>NaN</td>\n",
       "    </tr>\n",
       "    <tr>\n",
       "      <th>100.0</th>\n",
       "      <td>NaN</td>\n",
       "      <td>NaN</td>\n",
       "    </tr>\n",
       "    <tr>\n",
       "      <th>1000.0</th>\n",
       "      <td>NaN</td>\n",
       "      <td>NaN</td>\n",
       "    </tr>\n",
       "    <tr>\n",
       "      <th>10000.0</th>\n",
       "      <td>NaN</td>\n",
       "      <td>NaN</td>\n",
       "    </tr>\n",
       "    <tr>\n",
       "      <th>100000.0</th>\n",
       "      <td>NaN</td>\n",
       "      <td>NaN</td>\n",
       "    </tr>\n",
       "    <tr>\n",
       "      <th>1000000.0</th>\n",
       "      <td>NaN</td>\n",
       "      <td>NaN</td>\n",
       "    </tr>\n",
       "    <tr>\n",
       "      <th>10000000.0</th>\n",
       "      <td>NaN</td>\n",
       "      <td>NaN</td>\n",
       "    </tr>\n",
       "  </tbody>\n",
       "</table>\n",
       "</div>"
      ],
      "text/plain": [
       "           Aproximación Error\n",
       "10.0                NaN   NaN\n",
       "100.0               NaN   NaN\n",
       "1000.0              NaN   NaN\n",
       "10000.0             NaN   NaN\n",
       "100000.0            NaN   NaN\n",
       "1000000.0           NaN   NaN\n",
       "10000000.0          NaN   NaN"
      ]
     },
     "execution_count": 23,
     "metadata": {},
     "output_type": "execute_result"
    }
   ],
   "source": [
    "import pandas as pd\n",
    "\n",
    "n = np.logspace(1,7,7) #genera 7 elementos desde 10^1 hasta 10^7\n",
    "tabla = pd.DataFrame(columns=['Aproximación','Error'],index = n)\n",
    "tabla"
   ]
  },
  {
   "cell_type": "code",
   "execution_count": 24,
   "metadata": {},
   "outputs": [],
   "source": [
    "def montecarlo(f,n,a,b):\n",
    "    u = np.random.uniform(a,b,n)\n",
    "    return np.mean(f(u))*(b-a)\n",
    "    "
   ]
  },
  {
   "cell_type": "code",
   "execution_count": 25,
   "metadata": {},
   "outputs": [
    {
     "data": {
      "text/html": [
       "<div>\n",
       "<style scoped>\n",
       "    .dataframe tbody tr th:only-of-type {\n",
       "        vertical-align: middle;\n",
       "    }\n",
       "\n",
       "    .dataframe tbody tr th {\n",
       "        vertical-align: top;\n",
       "    }\n",
       "\n",
       "    .dataframe thead th {\n",
       "        text-align: right;\n",
       "    }\n",
       "</style>\n",
       "<table border=\"1\" class=\"dataframe\">\n",
       "  <thead>\n",
       "    <tr style=\"text-align: right;\">\n",
       "      <th></th>\n",
       "      <th>Aproximación</th>\n",
       "      <th>Error</th>\n",
       "    </tr>\n",
       "  </thead>\n",
       "  <tbody>\n",
       "    <tr>\n",
       "      <th>10.0</th>\n",
       "      <td>2.468363</td>\n",
       "      <td>NaN</td>\n",
       "    </tr>\n",
       "    <tr>\n",
       "      <th>100.0</th>\n",
       "      <td>2.22492</td>\n",
       "      <td>NaN</td>\n",
       "    </tr>\n",
       "    <tr>\n",
       "      <th>1000.0</th>\n",
       "      <td>2.33658</td>\n",
       "      <td>NaN</td>\n",
       "    </tr>\n",
       "    <tr>\n",
       "      <th>10000.0</th>\n",
       "      <td>2.321258</td>\n",
       "      <td>NaN</td>\n",
       "    </tr>\n",
       "    <tr>\n",
       "      <th>100000.0</th>\n",
       "      <td>2.327421</td>\n",
       "      <td>NaN</td>\n",
       "    </tr>\n",
       "    <tr>\n",
       "      <th>1000000.0</th>\n",
       "      <td>2.333022</td>\n",
       "      <td>NaN</td>\n",
       "    </tr>\n",
       "    <tr>\n",
       "      <th>10000000.0</th>\n",
       "      <td>2.333468</td>\n",
       "      <td>NaN</td>\n",
       "    </tr>\n",
       "  </tbody>\n",
       "</table>\n",
       "</div>"
      ],
      "text/plain": [
       "           Aproximación Error\n",
       "10.0           2.468363   NaN\n",
       "100.0           2.22492   NaN\n",
       "1000.0          2.33658   NaN\n",
       "10000.0        2.321258   NaN\n",
       "100000.0       2.327421   NaN\n",
       "1000000.0      2.333022   NaN\n",
       "10000000.0     2.333468   NaN"
      ]
     },
     "execution_count": 25,
     "metadata": {},
     "output_type": "execute_result"
    }
   ],
   "source": [
    "for i in n:\n",
    "    tabla.loc[i,'Aproximación'] = montecarlo(f,int(i),0,1)\n",
    "    \n",
    "tabla"
   ]
  },
  {
   "cell_type": "code",
   "execution_count": 26,
   "metadata": {},
   "outputs": [
    {
     "data": {
      "text/html": [
       "<div>\n",
       "<style scoped>\n",
       "    .dataframe tbody tr th:only-of-type {\n",
       "        vertical-align: middle;\n",
       "    }\n",
       "\n",
       "    .dataframe tbody tr th {\n",
       "        vertical-align: top;\n",
       "    }\n",
       "\n",
       "    .dataframe thead th {\n",
       "        text-align: right;\n",
       "    }\n",
       "</style>\n",
       "<table border=\"1\" class=\"dataframe\">\n",
       "  <thead>\n",
       "    <tr style=\"text-align: right;\">\n",
       "      <th></th>\n",
       "      <th>Aproximación</th>\n",
       "      <th>Error</th>\n",
       "    </tr>\n",
       "  </thead>\n",
       "  <tbody>\n",
       "    <tr>\n",
       "      <th>10.0</th>\n",
       "      <td>2.468363</td>\n",
       "      <td>0.135029</td>\n",
       "    </tr>\n",
       "    <tr>\n",
       "      <th>100.0</th>\n",
       "      <td>2.22492</td>\n",
       "      <td>0.108413</td>\n",
       "    </tr>\n",
       "    <tr>\n",
       "      <th>1000.0</th>\n",
       "      <td>2.33658</td>\n",
       "      <td>0.003246</td>\n",
       "    </tr>\n",
       "    <tr>\n",
       "      <th>10000.0</th>\n",
       "      <td>2.321258</td>\n",
       "      <td>0.012075</td>\n",
       "    </tr>\n",
       "    <tr>\n",
       "      <th>100000.0</th>\n",
       "      <td>2.327421</td>\n",
       "      <td>0.005912</td>\n",
       "    </tr>\n",
       "    <tr>\n",
       "      <th>1000000.0</th>\n",
       "      <td>2.333022</td>\n",
       "      <td>0.000312</td>\n",
       "    </tr>\n",
       "    <tr>\n",
       "      <th>10000000.0</th>\n",
       "      <td>2.333468</td>\n",
       "      <td>0.000134</td>\n",
       "    </tr>\n",
       "  </tbody>\n",
       "</table>\n",
       "</div>"
      ],
      "text/plain": [
       "           Aproximación     Error\n",
       "10.0           2.468363  0.135029\n",
       "100.0           2.22492  0.108413\n",
       "1000.0          2.33658  0.003246\n",
       "10000.0        2.321258  0.012075\n",
       "100000.0       2.327421  0.005912\n",
       "1000000.0      2.333022  0.000312\n",
       "10000000.0     2.333468  0.000134"
      ]
     },
     "execution_count": 26,
     "metadata": {},
     "output_type": "execute_result"
    }
   ],
   "source": [
    "tabla['Error'] = np.abs(7/3- tabla['Aproximación'])\n",
    "tabla"
   ]
  },
  {
   "cell_type": "code",
   "execution_count": 27,
   "metadata": {},
   "outputs": [
    {
     "data": {
      "text/plain": [
       "[<matplotlib.lines.Line2D at 0x7fc0e030ebb0>]"
      ]
     },
     "execution_count": 27,
     "metadata": {},
     "output_type": "execute_result"
    },
    {
     "data": {
      "image/png": "[encoded data removed]",
      "text/plain": [
       "<Figure size 432x288 with 1 Axes>"
      ]
     },
     "metadata": {
      "needs_background": "light"
     },
     "output_type": "display_data"
    }
   ],
   "source": [
    "import matplotlib.pyplot as plt\n",
    "%matplotlib inline\n",
    "\n",
    "plt.figure()\n",
    "plt.plot([2,3,4,5,6,7,8],tabla['Error'])"
   ]
  },
  {
   "cell_type": "markdown",
   "metadata": {},
   "source": [
    "Ver que los resultados son distintos cada vez (¿porqué?). Sin embargo, se aproximan más o menos en la misma medida."
   ]
  },
  {
   "cell_type": "markdown",
   "metadata": {},
   "source": [
    "**Aproximación de integrales en intervalos distintos a $\\left[0,1\\right]$.**\n",
    "\n",
    "Sin embargo, no todas las integrales que hacemos son en el intervalo $\\left[0,1\\right]$. En general, podemos integrar cualquier función continua en el intervalo $\\left[a,b\\right]$, donde $a,b\\in\\mathbb{R}$ con $a<b$.\n",
    "\n",
    "Sea $f:\\left[a,b\\right]\\to\\mathbb{R}$ una función continua en el intervalo $\\left(a,b\\right)$ (por lo tanto es integrable endicho intervalo). Queremos resolver:\n",
    "\n",
    "$$\\int_{a}^{b}f(x)\\text{d}x.$$\n",
    "\n",
    "¿Cómo podemos usar la idea del valor promedio para resolver esto?"
   ]
  },
  {
   "cell_type": "markdown",
   "metadata": {},
   "source": [
    "El valor promedio de $f$ en $\\left[a,b\\right]$ es:\n",
    "\n",
    "$$\\frac{1}{b-a}\\int_{a}^{b}f(x)\\text{d}x.$$\n",
    "\n",
    "Este valor promedio puede aproximarse mediante el promedio de $N$ valores de la función en puntos aleatorios **uniformemente distribuidos** en el intervalo $\\left[a,b\\right]$. Es decir,\n",
    "\n",
    "$$\\frac{1}{b-a}\\int_{a}^{b}f(x)\\text{d}x\\approx \\frac{1}{N}\\sum_{i=1}^{N}f(u_i),$$\n",
    "\n",
    "donde $u_i$ son realizaciones de la variable aleatoria $U\\sim\\mathcal{U}\\left[a,b\\right]$ ($U$ distribuye uniformemente en el intervalo $\\left[a,b\\right]$).\n",
    "\n",
    "Finalmente, la aproximación montecarlo tipo 1 con $N$ términos es \n",
    "\n",
    "$$\\int_{a}^{b}f(x)\\text{d}x\\approx \\frac{b-a}{N}\\sum_{i=1}^{N}f(u_i).$$"
   ]
  },
  {
   "cell_type": "code",
   "execution_count": null,
   "metadata": {},
   "outputs": [],
   "source": []
  },
  {
   "cell_type": "code",
   "execution_count": null,
   "metadata": {},
   "outputs": [],
   "source": []
  },
  {
   "cell_type": "code",
   "execution_count": null,
   "metadata": {},
   "outputs": [],
   "source": []
  },
  {
   "cell_type": "markdown",
   "metadata": {},
   "source": [
    "Escribamos una función que tenga como entradas:\n",
    "- la función a integrar $f$,\n",
    "- los límites de integración $a$ y $b$, y\n",
    "- el número de términos que se usará en la aproximación $N$,\n",
    "\n",
    "y que devuelva la aproximación montecarlo tipo 1 de la integral $\\int_{a}^{b}f(x)\\text{d}x$."
   ]
  },
  {
   "cell_type": "code",
   "execution_count": null,
   "metadata": {},
   "outputs": [],
   "source": []
  },
  {
   "cell_type": "code",
   "execution_count": null,
   "metadata": {},
   "outputs": [],
   "source": []
  },
  {
   "cell_type": "code",
   "execution_count": null,
   "metadata": {},
   "outputs": [],
   "source": []
  },
  {
   "cell_type": "markdown",
   "metadata": {},
   "source": [
    "**Actividad.** Utilizar la anterior función para realizar las siguientes integrales. Poner los resultados en una tabla cuyas filas correspondan a la cantidad de términos utilizados en la aproximación (usar 10, 100, 1000, 10000 y 100000 términos) y cuyas columnas correspondan a las funciones.\n",
    "- $\\int_{2}^{2.1} e^{x^2}\\text{d}x$.\n",
    "- $\\int_{2}^{2.1} \\frac{1}{log(x)}\\text{d}x$.\n",
    "- $\\int_{2}^{2.1} \\frac{sin(x)}{x}\\text{d}x$."
   ]
  },
  {
   "cell_type": "code",
   "execution_count": 34,
   "metadata": {},
   "outputs": [
    {
     "data": {
      "text/html": [
       "<div>\n",
       "<style scoped>\n",
       "    .dataframe tbody tr th:only-of-type {\n",
       "        vertical-align: middle;\n",
       "    }\n",
       "\n",
       "    .dataframe tbody tr th {\n",
       "        vertical-align: top;\n",
       "    }\n",
       "\n",
       "    .dataframe thead th {\n",
       "        text-align: right;\n",
       "    }\n",
       "</style>\n",
       "<table border=\"1\" class=\"dataframe\">\n",
       "  <thead>\n",
       "    <tr style=\"text-align: right;\">\n",
       "      <th></th>\n",
       "      <th>Aproximación</th>\n",
       "      <th>Error</th>\n",
       "    </tr>\n",
       "  </thead>\n",
       "  <tbody>\n",
       "    <tr>\n",
       "      <th>10.0</th>\n",
       "      <td>6.602743</td>\n",
       "      <td>0.135152</td>\n",
       "    </tr>\n",
       "    <tr>\n",
       "      <th>100.0</th>\n",
       "      <td>6.718044</td>\n",
       "      <td>0.01985</td>\n",
       "    </tr>\n",
       "    <tr>\n",
       "      <th>1000.0</th>\n",
       "      <td>6.735596</td>\n",
       "      <td>0.002299</td>\n",
       "    </tr>\n",
       "    <tr>\n",
       "      <th>10000.0</th>\n",
       "      <td>6.747514</td>\n",
       "      <td>0.009619</td>\n",
       "    </tr>\n",
       "    <tr>\n",
       "      <th>100000.0</th>\n",
       "      <td>6.736661</td>\n",
       "      <td>0.001234</td>\n",
       "    </tr>\n",
       "  </tbody>\n",
       "</table>\n",
       "</div>"
      ],
      "text/plain": [
       "         Aproximación     Error\n",
       "10.0         6.602743  0.135152\n",
       "100.0        6.718044   0.01985\n",
       "1000.0       6.735596  0.002299\n",
       "10000.0      6.747514  0.009619\n",
       "100000.0     6.736661  0.001234"
      ]
     },
     "execution_count": 34,
     "metadata": {},
     "output_type": "execute_result"
    }
   ],
   "source": [
    "n = np.logspace(1,5,5)\n",
    "def f1(x):\n",
    "    return np.exp(x**2)\n",
    "\n",
    "\n",
    "tabla1 = pd.DataFrame(columns=['Aproximación','Error'], index=n)\n",
    "for i in n:\n",
    "    tabla1.loc[i,'Aproximación'] = montecarlo(f1,int(i),2,2.1)\n",
    "tabla1['Error']= np.abs(6.73789493-tabla1['Aproximación'])\n",
    "tabla1\n"
   ]
  },
  {
   "cell_type": "code",
   "execution_count": 32,
   "metadata": {
    "scrolled": true
   },
   "outputs": [
    {
     "data": {
      "text/html": [
       "<div>\n",
       "<style scoped>\n",
       "    .dataframe tbody tr th:only-of-type {\n",
       "        vertical-align: middle;\n",
       "    }\n",
       "\n",
       "    .dataframe tbody tr th {\n",
       "        vertical-align: top;\n",
       "    }\n",
       "\n",
       "    .dataframe thead th {\n",
       "        text-align: right;\n",
       "    }\n",
       "</style>\n",
       "<table border=\"1\" class=\"dataframe\">\n",
       "  <thead>\n",
       "    <tr style=\"text-align: right;\">\n",
       "      <th></th>\n",
       "      <th>Aproximación</th>\n",
       "      <th>Error</th>\n",
       "    </tr>\n",
       "  </thead>\n",
       "  <tbody>\n",
       "    <tr>\n",
       "      <th>10.0</th>\n",
       "      <td>0.138336</td>\n",
       "      <td>0.182598</td>\n",
       "    </tr>\n",
       "    <tr>\n",
       "      <th>100.0</th>\n",
       "      <td>0.139552</td>\n",
       "      <td>0.181382</td>\n",
       "    </tr>\n",
       "    <tr>\n",
       "      <th>1000.0</th>\n",
       "      <td>0.139442</td>\n",
       "      <td>0.181492</td>\n",
       "    </tr>\n",
       "    <tr>\n",
       "      <th>10000.0</th>\n",
       "      <td>0.139375</td>\n",
       "      <td>0.181558</td>\n",
       "    </tr>\n",
       "    <tr>\n",
       "      <th>100000.0</th>\n",
       "      <td>0.139389</td>\n",
       "      <td>0.181545</td>\n",
       "    </tr>\n",
       "  </tbody>\n",
       "</table>\n",
       "</div>"
      ],
      "text/plain": [
       "         Aproximación     Error\n",
       "10.0         0.138336  0.182598\n",
       "100.0        0.139552  0.181382\n",
       "1000.0       0.139442  0.181492\n",
       "10000.0      0.139375  0.181558\n",
       "100000.0     0.139389  0.181545"
      ]
     },
     "execution_count": 32,
     "metadata": {},
     "output_type": "execute_result"
    }
   ],
   "source": [
    "n = np.logspace(1,5,5)\n",
    "def f2(x):\n",
    "    return 1/np.log(x)\n",
    "\n",
    "\n",
    "tabla2 = pd.DataFrame(columns=['Aproximación','Error'], index=n)\n",
    "for i in n:\n",
    "    tabla2.loc[i,'Aproximación'] = montecarlo(f2,int(i),2,2.1)\n",
    "tabla2['Error']= np.abs(0.3209338417-tabla2['Aproximación'])\n",
    "tabla2"
   ]
  },
  {
   "cell_type": "code",
   "execution_count": 36,
   "metadata": {},
   "outputs": [
    {
     "data": {
      "text/html": [
       "<div>\n",
       "<style scoped>\n",
       "    .dataframe tbody tr th:only-of-type {\n",
       "        vertical-align: middle;\n",
       "    }\n",
       "\n",
       "    .dataframe tbody tr th {\n",
       "        vertical-align: top;\n",
       "    }\n",
       "\n",
       "    .dataframe thead th {\n",
       "        text-align: right;\n",
       "    }\n",
       "</style>\n",
       "<table border=\"1\" class=\"dataframe\">\n",
       "  <thead>\n",
       "    <tr style=\"text-align: right;\">\n",
       "      <th></th>\n",
       "      <th>Aproximación</th>\n",
       "      <th>Error</th>\n",
       "    </tr>\n",
       "  </thead>\n",
       "  <tbody>\n",
       "    <tr>\n",
       "      <th>10.0</th>\n",
       "      <td>0.043243</td>\n",
       "      <td>0.000042</td>\n",
       "    </tr>\n",
       "    <tr>\n",
       "      <th>100.0</th>\n",
       "      <td>0.043399</td>\n",
       "      <td>0.000114</td>\n",
       "    </tr>\n",
       "    <tr>\n",
       "      <th>1000.0</th>\n",
       "      <td>0.043337</td>\n",
       "      <td>0.000051</td>\n",
       "    </tr>\n",
       "    <tr>\n",
       "      <th>10000.0</th>\n",
       "      <td>0.043273</td>\n",
       "      <td>0.000013</td>\n",
       "    </tr>\n",
       "    <tr>\n",
       "      <th>100000.0</th>\n",
       "      <td>0.043283</td>\n",
       "      <td>0.000003</td>\n",
       "    </tr>\n",
       "  </tbody>\n",
       "</table>\n",
       "</div>"
      ],
      "text/plain": [
       "         Aproximación     Error\n",
       "10.0         0.043243  0.000042\n",
       "100.0        0.043399  0.000114\n",
       "1000.0       0.043337  0.000051\n",
       "10000.0      0.043273  0.000013\n",
       "100000.0     0.043283  0.000003"
      ]
     },
     "execution_count": 36,
     "metadata": {},
     "output_type": "execute_result"
    }
   ],
   "source": [
    "n = np.logspace(1,5,5)\n",
    "def f3(x):\n",
    "    return (np.sin(x))/x\n",
    "\n",
    "\n",
    "tabla3 = pd.DataFrame(columns=['Aproximación','Error'], index=n)\n",
    "for i in n:\n",
    "    tabla3.loc[i,'Aproximación'] = montecarlo(f3,int(i),2,2.1)\n",
    "tabla3['Error']= np.abs(0.04328565944-tabla3['Aproximación'])\n",
    "tabla3"
   ]
  },
  {
   "cell_type": "markdown",
   "metadata": {},
   "source": [
    "### Ejercicio puntos extras\n",
    "\n",
    "Evaluar las 3 funciones con Montecarlo. Sacar el valor correcto de Wolfram. Tener UNA tabla con f1 error f2 error f3 error."
   ]
  },
  {
   "cell_type": "code",
   "execution_count": 37,
   "metadata": {},
   "outputs": [
    {
     "data": {
      "text/html": [
       "<div>\n",
       "<style scoped>\n",
       "    .dataframe tbody tr th:only-of-type {\n",
       "        vertical-align: middle;\n",
       "    }\n",
       "\n",
       "    .dataframe tbody tr th {\n",
       "        vertical-align: top;\n",
       "    }\n",
       "\n",
       "    .dataframe thead th {\n",
       "        text-align: right;\n",
       "    }\n",
       "</style>\n",
       "<table border=\"1\" class=\"dataframe\">\n",
       "  <thead>\n",
       "    <tr style=\"text-align: right;\">\n",
       "      <th></th>\n",
       "      <th>Aproximación1</th>\n",
       "      <th>Error1</th>\n",
       "      <th>Aproximación2</th>\n",
       "      <th>Error2</th>\n",
       "      <th>Aproximación3</th>\n",
       "      <th>Error3</th>\n",
       "    </tr>\n",
       "  </thead>\n",
       "  <tbody>\n",
       "    <tr>\n",
       "      <th>10.0</th>\n",
       "      <td>6.602743</td>\n",
       "      <td>0.135152</td>\n",
       "      <td>0.138336</td>\n",
       "      <td>0.182598</td>\n",
       "      <td>0.043243</td>\n",
       "      <td>0.000042</td>\n",
       "    </tr>\n",
       "    <tr>\n",
       "      <th>100.0</th>\n",
       "      <td>6.718044</td>\n",
       "      <td>0.01985</td>\n",
       "      <td>0.139552</td>\n",
       "      <td>0.181382</td>\n",
       "      <td>0.043399</td>\n",
       "      <td>0.000114</td>\n",
       "    </tr>\n",
       "    <tr>\n",
       "      <th>1000.0</th>\n",
       "      <td>6.735596</td>\n",
       "      <td>0.002299</td>\n",
       "      <td>0.139442</td>\n",
       "      <td>0.181492</td>\n",
       "      <td>0.043337</td>\n",
       "      <td>0.000051</td>\n",
       "    </tr>\n",
       "    <tr>\n",
       "      <th>10000.0</th>\n",
       "      <td>6.747514</td>\n",
       "      <td>0.009619</td>\n",
       "      <td>0.139375</td>\n",
       "      <td>0.181558</td>\n",
       "      <td>0.043273</td>\n",
       "      <td>0.000013</td>\n",
       "    </tr>\n",
       "    <tr>\n",
       "      <th>100000.0</th>\n",
       "      <td>6.736661</td>\n",
       "      <td>0.001234</td>\n",
       "      <td>0.139389</td>\n",
       "      <td>0.181545</td>\n",
       "      <td>0.043283</td>\n",
       "      <td>0.000003</td>\n",
       "    </tr>\n",
       "  </tbody>\n",
       "</table>\n",
       "</div>"
      ],
      "text/plain": [
       "         Aproximación1    Error1 Aproximación2    Error2 Aproximación3  \\\n",
       "10.0          6.602743  0.135152      0.138336  0.182598      0.043243   \n",
       "100.0         6.718044   0.01985      0.139552  0.181382      0.043399   \n",
       "1000.0        6.735596  0.002299      0.139442  0.181492      0.043337   \n",
       "10000.0       6.747514  0.009619      0.139375  0.181558      0.043273   \n",
       "100000.0      6.736661  0.001234      0.139389  0.181545      0.043283   \n",
       "\n",
       "            Error3  \n",
       "10.0      0.000042  \n",
       "100.0     0.000114  \n",
       "1000.0    0.000051  \n",
       "10000.0   0.000013  \n",
       "100000.0  0.000003  "
      ]
     },
     "execution_count": 37,
     "metadata": {},
     "output_type": "execute_result"
    }
   ],
   "source": [
    "tabla_total = pd.DataFrame(columns=['Aproximación1','Error1','Aproximación2','Error2','Aproximación3','Error3'])\n",
    "tabla_total['Aproximación1']= tabla1['Aproximación']\n",
    "tabla_total['Error1']=tabla1['Error']\n",
    "tabla_total['Aproximación2']= tabla2['Aproximación']\n",
    "tabla_total['Error2']=tabla2['Error']\n",
    "tabla_total['Aproximación3']= tabla3['Aproximación']\n",
    "tabla_total['Error3']=tabla3['Error']\n",
    "tabla_total"
   ]
  },
  {
   "cell_type": "markdown",
   "metadata": {},
   "source": [
    "___\n",
    "## Integración Montecarlo tipo 2\n",
    "Con la integración montecarlo tipo 1 pudimos aproximar integrales de funciones continuas de una variable en un intervalo dado. En realidad este mismo análisis se puede ampliar para aproximar integrales definidas de funciones continuas de varias variables (integrales sobre áreas, volúmenes e hipervolúmenes) dado que la noción de valor promedio de una función se extiende a cualquier dimensión.\n",
    "\n",
    "**Este es en realidad el caso interesante, pues las integrales de funciones complicadas también se pueden aproximar por métodos numéricos clásicos, pero cuando la dimensión aumenta es cuando montecarlo se vuelve una herramienta relevante. Dado que no lo veremos en clase por la limitación de que la mayoría no han visto cálculo en varias variables, este tema puede ser elegido como proyecto de módulo, donde se exploraría también como mejorar la aproximación de integrales montecarlo.**\n",
    "\n",
    "Como vimos en el ejemplo (y como debe ser claro de su curso de cálculo integral) una de las aplicaciones más importantes de la integración es hallar áreas. Y no solo el área bajo una curva, sino áreas entre curvas y áreas de regiones más complicadas."
   ]
  },
  {
   "cell_type": "markdown",
   "metadata": {},
   "source": [
    "Antes de ver la integración montecarlo tipo 2, ¿cómo podemos usar la integración montecarlo tipo 1 para aproximar el área entre curvas?\n",
    "\n",
    "**Ejemplo.** Aproxime el área entre las curvas $y=x$, y $y=x^2$ en el intervalo $\\left[0,1\\right]$.\n",
    "\n",
    "Veamos primero cómo luce dicha área."
   ]
  },
  {
   "cell_type": "code",
   "execution_count": null,
   "metadata": {},
   "outputs": [],
   "source": [
    "import numpy as np\n",
    "import matplotlib.pyplot as plt\n",
    "%matplotlib inline\n",
    "\n",
    "def f1(x) :\n",
    "    return x\n",
    "def f2(x) :\n",
    "    return x**2\n",
    "\n",
    "x = np.linspace(0, 1, 1000)\n",
    "plt.plot(x, f1(x), \"k\", label=\"$y=x$\")\n",
    "plt.plot(x, f2(x), \"r\", label=\"$y=x^2$\")\n",
    "plt.fill_between(x, f1(x), f2(x))\n",
    "plt.text(0.5, 0.4, \"$\\mathcal{D}$\", fontsize=20)\n",
    "plt.xlabel(\"$x$\")\n",
    "plt.ylabel(\"$y$\")\n",
    "plt.legend(loc=\"best\")\n",
    "plt.grid()"
   ]
  },
  {
   "cell_type": "markdown",
   "metadata": {},
   "source": [
    "De cálculo integral, sabemos que\n",
    "\n",
    "$$A(\\mathcal{D})=\\int_{0}^{1}(x-x^2)\\text{d}x.$$\n",
    "\n",
    "Entonces..."
   ]
  },
  {
   "cell_type": "code",
   "execution_count": null,
   "metadata": {},
   "outputs": [],
   "source": []
  },
  {
   "cell_type": "code",
   "execution_count": null,
   "metadata": {},
   "outputs": [],
   "source": []
  },
  {
   "cell_type": "code",
   "execution_count": null,
   "metadata": {},
   "outputs": [],
   "source": []
  },
  {
   "cell_type": "markdown",
   "metadata": {},
   "source": [
    "De modo que si la región se puede describir fácilmente, entonces podemos aproximar la integral sin problema."
   ]
  },
  {
   "cell_type": "markdown",
   "metadata": {},
   "source": [
    "Pero, ¿qué pasa si la geometría de la región no se puede describir fácilmente?"
   ]
  },
  {
   "cell_type": "markdown",
   "metadata": {},
   "source": [
    "Como en el caso anterior, motivaremos el método con un caso conocido. Vamos a aproximar el valor de $\\pi$ usando el área de un círculo unitario.\n",
    "\n",
    "Dibujemos el círculo unitario en la región $\\mathcal{R}=\\left[-1,1\\right]\\times\\left[-1,1\\right]$."
   ]
  },
  {
   "cell_type": "code",
   "execution_count": null,
   "metadata": {},
   "outputs": [],
   "source": [
    "# x**2 + y**2 = r**2\n",
    "x = np.linspace(-1, 1, 1000)\n",
    "def circuloS(x) :\n",
    "    return np.sqrt(1 - x**2)\n",
    "def circuloI(x) :\n",
    "    return - np.sqrt(1 - x**2)\n",
    "\n",
    "plt.figure(figsize=(5, 5))\n",
    "plt.plot(x, circuloS(x), \"k\")\n",
    "plt.plot(x, circuloI(x), \"k\")\n",
    "plt.fill_between(x, circuloS(x), circuloI(x))\n",
    "plt.text(0, 0, \"$\\mathcal{D}$\", fontsize=20)\n",
    "plt.text(0.8, 0.8, \"$\\mathcal{R}$\", fontsize=20)\n",
    "plt.grid()\n"
   ]
  },
  {
   "cell_type": "markdown",
   "metadata": {},
   "source": [
    "Si aproximamos $A(\\mathcal{D})$ aproximamos el valor de $\\pi$, pues el área del círculo unitario es:\n",
    "\n",
    "$$A(\\mathcal{D})=\\pi(1)^2=\\pi.$$\n",
    "\n",
    "Por otra parte es claro que el área de la región $\\mathcal{R}=\\left[-1,1\\right]\\times\\left[-1,1\\right]$ es\n",
    "\n",
    "$$A(\\mathcal{R})=4.$$"
   ]
  },
  {
   "cell_type": "markdown",
   "metadata": {},
   "source": [
    "Ahora, haremos uso de nuestro generador de números aleatorios. Supongamos que escogemos un punto aleatorio en la región $\\mathcal{R}=\\left[-1,1\\right]\\times\\left[-1,1\\right]$. Describimos este punto como $(X,Y)$ para $X$ e $Y$ variables aleatorias uniformes sobre el intervalo $\\left[-1,1\\right]$.\n",
    "\n",
    "¿Cómo generamos puntos aleatorios en un rectángulo?"
   ]
  },
  {
   "cell_type": "code",
   "execution_count": null,
   "metadata": {},
   "outputs": [],
   "source": []
  },
  {
   "cell_type": "code",
   "execution_count": null,
   "metadata": {},
   "outputs": [],
   "source": []
  },
  {
   "cell_type": "code",
   "execution_count": null,
   "metadata": {},
   "outputs": [],
   "source": []
  },
  {
   "cell_type": "markdown",
   "metadata": {},
   "source": [
    "La probabilidad de que el punto $(X,Y)$ esté en el círculo unitario $\\mathcal{D}$ es\n",
    "\n",
    "$$P((X,Y)\\in\\mathcal{D})=\\frac{A(\\mathcal{D})}{A(\\mathcal{R})}=\\frac{\\pi}{4}.$$"
   ]
  },
  {
   "cell_type": "markdown",
   "metadata": {},
   "source": [
    "Luego, definimos una variable aleatoria de Bernoulli $B$ de manera que\n",
    "\n",
    "$$B=\\left\\lbrace\\begin{array}{ccc}0 & \\text{si} & (X,Y)\\notin\\mathcal{D}\\\\1 & \\text{si} & (X,Y)\\in\\mathcal{D} \\end{array}\\right.=\\left\\lbrace\\begin{array}{ccc}0 & \\text{si} & X^2+Y^2>1\\\\1 & \\text{si} & X^2+Y^2\\leq 1 \\end{array}\\right..$$\n",
    "\n",
    "Entonces, el valor esperado de la variable aleatoria $B$ es\n",
    "\n",
    "$$E\\left[B\\right]=\\theta=P((X,Y)\\in\\mathcal{D})=\\frac{A(\\mathcal{D})}{A(\\mathcal{R})}.$$"
   ]
  },
  {
   "cell_type": "markdown",
   "metadata": {},
   "source": [
    "De lo anterior, una estimación de $\\theta$ se puede obtener como\n",
    "\n",
    "$$\\theta=\\frac{A(\\mathcal{D})}{A(\\mathcal{R})}\\approx \\frac{1}{N}\\sum_{i=1}^{N}b_i,$$\n",
    "\n",
    "donde \n",
    "\n",
    "$$b_i=\\left\\lbrace\\begin{array}{ccc}0 & \\text{si} & x_i^2+y_i^2>1\\\\1 & \\text{si} & x_i^2+y_i^2\\leq 1 \\end{array}\\right.$$\n",
    "\n",
    "son realizaciones de la variable aleatoria $B$, que a su vez es producto de las realizaciones $x_i$ e $y_i$ de las variables aleatorias $X$ e $Y$, respectivamente."
   ]
  },
  {
   "cell_type": "markdown",
   "metadata": {},
   "source": [
    "Finalmente, la aproximación montecarlo tipo 2 con $N$ términos es \n",
    "\n",
    "$$A(\\mathcal{D})\\approx \\frac{A(\\mathcal{R})}{N}\\sum_{i=1}^{N}b_i.$$"
   ]
  },
  {
   "cell_type": "markdown",
   "metadata": {},
   "source": [
    "De nuevo, comparemos con el valor exacto."
   ]
  },
  {
   "cell_type": "code",
   "execution_count": null,
   "metadata": {},
   "outputs": [],
   "source": []
  },
  {
   "cell_type": "code",
   "execution_count": null,
   "metadata": {},
   "outputs": [],
   "source": []
  },
  {
   "cell_type": "code",
   "execution_count": null,
   "metadata": {},
   "outputs": [],
   "source": []
  },
  {
   "cell_type": "markdown",
   "metadata": {},
   "source": [
    "Escribamos una función que tenga como entradas:\n",
    "- la función que describe la region $region$,\n",
    "- los límites de la region $a_1$, $b_1$, $a_2$ y $b_2$, con $R=\\left[a_1,b_1\\right]\\times\\left[a_2,b_2\\right]$ y\n",
    "- el número de términos que se usará en la aproximación $N$,\n",
    "\n",
    "y que devuelva la aproximación montecarlo tipo 2 del area de la region."
   ]
  },
  {
   "cell_type": "code",
   "execution_count": null,
   "metadata": {},
   "outputs": [],
   "source": []
  },
  {
   "cell_type": "code",
   "execution_count": null,
   "metadata": {},
   "outputs": [],
   "source": []
  },
  {
   "cell_type": "code",
   "execution_count": null,
   "metadata": {},
   "outputs": [],
   "source": []
  },
  {
   "cell_type": "markdown",
   "metadata": {},
   "source": [
    "**Actividad.** Utilizar la anterior función para aproximar el área de la región descrita por\n",
    "\n",
    "$$4(2x-1)^4+8(2y-1)^8<1+2(2y-1)^3(3x-2)^2$$\n",
    "\n",
    "Poner los resultados en una tabla cuyas filas correspondan a la cantidad de términos utilizados en la aproximación (usar 10, 100, 1000, 10000 y 100000 términos)."
   ]
  },
  {
   "cell_type": "code",
   "execution_count": null,
   "metadata": {},
   "outputs": [],
   "source": []
  },
  {
   "cell_type": "code",
   "execution_count": null,
   "metadata": {},
   "outputs": [],
   "source": []
  },
  {
   "cell_type": "code",
   "execution_count": null,
   "metadata": {},
   "outputs": [],
   "source": []
  },
  {
   "cell_type": "code",
   "execution_count": null,
   "metadata": {},
   "outputs": [],
   "source": []
  },
  {
   "cell_type": "markdown",
   "metadata": {},
   "source": [
    "___\n",
    "## Error de aproximación de integrales por montecarlo\n",
    "Ver [documento mit](https://ocw.mit.edu/courses/mechanical-engineering/2-086-numerical-computation-for-mechanical-engineers-fall-2014/nutshells-guis/MIT2_086F14_Monte_Carlo.pdf), página 5."
   ]
  }
 ],
 "metadata": {
  "kernelspec": {
   "display_name": "Python 3 (ipykernel)",
   "language": "python",
   "name": "python3"
  },
  "language_info": {
   "codemirror_mode": {
    "name": "ipython",
    "version": 3
   },
   "file_extension": ".py",
   "mimetype": "text/x-python",
   "name": "python",
   "nbconvert_exporter": "python",
   "pygments_lexer": "ipython3",
   "version": "3.9.12"
  }
 },
 "nbformat": 4,
 "nbformat_minor": 2
}
