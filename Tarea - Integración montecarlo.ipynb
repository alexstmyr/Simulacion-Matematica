{
 "cells": [
  {
   "cell_type": "markdown",
   "metadata": {},
   "source": [
    "# TAREA"
   ]
  },
  {
   "cell_type": "markdown",
   "metadata": {},
   "source": [
    "## Integración Montecarlo"
   ]
  },
  {
   "cell_type": "markdown",
   "metadata": {},
   "source": [
    "1. Realizar las siguientes integrales. Poner los resultados en una tabla cuyas filas correspondan a la cantidad de términos utilizados en la aproximación (usar 10, 100, 1000, 10000 y 100000 términos) y cuyas columnas correspondan a las funciones.\n",
    "    + $\\int_{1}^{3} e^{x}\\log(x)\\text{d}x$.\n",
    "    + $\\int_1^3 \\sin(x)\\ln(x) \\text{d}x$"
   ]
  },
  {
   "cell_type": "code",
   "execution_count": 2,
   "metadata": {},
   "outputs": [],
   "source": [
    "import numpy as np\n",
    "import pandas as pd\n",
    "\n",
    "n = np.logspace(1,5,5)"
   ]
  },
  {
   "cell_type": "code",
   "execution_count": 3,
   "metadata": {},
   "outputs": [],
   "source": [
    "def f1(x):\n",
    "    return np.exp(x)*np.log(x)\n",
    "def f2(x):\n",
    "    return np.sin(x)*np.log(x)"
   ]
  },
  {
   "cell_type": "code",
   "execution_count": 4,
   "metadata": {},
   "outputs": [],
   "source": [
    "def montecarlo(f,n,a,b):\n",
    "    u = np.random.uniform(a,b,n)\n",
    "    return np.mean(f(u))*(b-a)"
   ]
  },
  {
   "cell_type": "code",
   "execution_count": 5,
   "metadata": {},
   "outputs": [
    {
     "data": {
      "text/html": [
       "<div>\n",
       "<style scoped>\n",
       "    .dataframe tbody tr th:only-of-type {\n",
       "        vertical-align: middle;\n",
       "    }\n",
       "\n",
       "    .dataframe tbody tr th {\n",
       "        vertical-align: top;\n",
       "    }\n",
       "\n",
       "    .dataframe thead th {\n",
       "        text-align: right;\n",
       "    }\n",
       "</style>\n",
       "<table border=\"1\" class=\"dataframe\">\n",
       "  <thead>\n",
       "    <tr style=\"text-align: right;\">\n",
       "      <th></th>\n",
       "      <th>Función 1</th>\n",
       "      <th>Función 2</th>\n",
       "    </tr>\n",
       "  </thead>\n",
       "  <tbody>\n",
       "    <tr>\n",
       "      <th>10.0</th>\n",
       "      <td>11.944799</td>\n",
       "      <td>0.757702</td>\n",
       "    </tr>\n",
       "    <tr>\n",
       "      <th>100.0</th>\n",
       "      <td>11.923271</td>\n",
       "      <td>0.873286</td>\n",
       "    </tr>\n",
       "    <tr>\n",
       "      <th>1000.0</th>\n",
       "      <td>14.304561</td>\n",
       "      <td>0.882234</td>\n",
       "    </tr>\n",
       "    <tr>\n",
       "      <th>10000.0</th>\n",
       "      <td>14.048578</td>\n",
       "      <td>0.876591</td>\n",
       "    </tr>\n",
       "    <tr>\n",
       "      <th>100000.0</th>\n",
       "      <td>13.987713</td>\n",
       "      <td>0.87034</td>\n",
       "    </tr>\n",
       "  </tbody>\n",
       "</table>\n",
       "</div>"
      ],
      "text/plain": [
       "          Función 1 Función 2\n",
       "10.0      11.944799  0.757702\n",
       "100.0     11.923271  0.873286\n",
       "1000.0    14.304561  0.882234\n",
       "10000.0   14.048578  0.876591\n",
       "100000.0  13.987713   0.87034"
      ]
     },
     "execution_count": 5,
     "metadata": {},
     "output_type": "execute_result"
    }
   ],
   "source": [
    "tabla1 = pd.DataFrame(columns = ['Función 1','Función 2'], index = n)\n",
    "\n",
    "for i in n:\n",
    "    tabla1.loc[i,'Función 1'] = montecarlo(f1,int(i),1,3)\n",
    "    \n",
    "for i in n:\n",
    "    tabla1.loc[i,'Función 2'] = montecarlo(f2,int(i),1,3)\n",
    "    \n",
    "tabla1"
   ]
  },
  {
   "cell_type": "markdown",
   "metadata": {},
   "source": [
    "2. Aproximar el área de la región descrita por\n",
    "\n",
    "$$x^2+2y^2\\leq-2x+8y-7$$\n",
    "\n",
    "Poner los resultados en una tabla cuyas filas correspondan a la cantidad de términos utilizados en la aproximación (usar 10, 100, 1000, 10000 y 100000 términos) y en las columnas el valor de aproximación y el error relativo.\n",
    "\n",
    "Definir unos límites adecuados $a_1$, $b_1$, $a_2$ y $b_2$, para la región $R=\\left[a_1,b_1\\right]\\times\\left[a_2,b_2\\right]$"
   ]
  },
  {
   "cell_type": "code",
   "execution_count": 13,
   "metadata": {},
   "outputs": [],
   "source": [
    "def montecarlo2(region,ax,bx,ay,by,N):\n",
    "    x = np.random.uniform(ax,bx,N)\n",
    "    y = np.random.uniform(ay,by,N)\n",
    "    B = region(x,y)\n",
    "    AR = (bx-ax)*(by-ay)\n",
    "    return np.mean(B)*AR\n",
    "\n",
    "def bernoulli(x,y):\n",
    "    return ((x**2+2*y**2) <= (-2*x+8*y-7))"
   ]
  },
  {
   "cell_type": "code",
   "execution_count": 14,
   "metadata": {},
   "outputs": [],
   "source": [
    "tabla2 = pd.DataFrame(columns = ['Aproximación','Error relativo'], index = n)"
   ]
  },
  {
   "cell_type": "markdown",
   "metadata": {},
   "source": [
    "### Buscando el área de referencia"
   ]
  },
  {
   "cell_type": "code",
   "execution_count": 15,
   "metadata": {},
   "outputs": [
    {
     "data": {
      "text/plain": [
       "<matplotlib.collections.PathCollection at 0x7ff5a8209f70>"
      ]
     },
     "execution_count": 15,
     "metadata": {},
     "output_type": "execute_result"
    },
    {
     "data": {
      "image/png": "[encoded data removed]",
      "text/plain": [
       "<Figure size 432x288 with 1 Axes>"
      ]
     },
     "metadata": {
      "needs_background": "light"
     },
     "output_type": "display_data"
    }
   ],
   "source": [
    "import matplotlib.pyplot as plt\n",
    "%matplotlib inline\n",
    "x = np.random.uniform(-3,1,100)\n",
    "y = np.random.uniform(1,3,100)\n",
    "X,Y = np.meshgrid(x,y)\n",
    "\n",
    "plt.figure()\n",
    "plt.scatter(X,Y, c= bernoulli(X,Y))"
   ]
  },
  {
   "cell_type": "code",
   "execution_count": 16,
   "metadata": {},
   "outputs": [
    {
     "data": {
      "text/html": [
       "<div>\n",
       "<style scoped>\n",
       "    .dataframe tbody tr th:only-of-type {\n",
       "        vertical-align: middle;\n",
       "    }\n",
       "\n",
       "    .dataframe tbody tr th {\n",
       "        vertical-align: top;\n",
       "    }\n",
       "\n",
       "    .dataframe thead th {\n",
       "        text-align: right;\n",
       "    }\n",
       "</style>\n",
       "<table border=\"1\" class=\"dataframe\">\n",
       "  <thead>\n",
       "    <tr style=\"text-align: right;\">\n",
       "      <th></th>\n",
       "      <th>Aproximación</th>\n",
       "      <th>Error relativo</th>\n",
       "    </tr>\n",
       "  </thead>\n",
       "  <tbody>\n",
       "    <tr>\n",
       "      <th>10.0</th>\n",
       "      <td>4.8</td>\n",
       "      <td>NaN</td>\n",
       "    </tr>\n",
       "    <tr>\n",
       "      <th>100.0</th>\n",
       "      <td>5.12</td>\n",
       "      <td>NaN</td>\n",
       "    </tr>\n",
       "    <tr>\n",
       "      <th>1000.0</th>\n",
       "      <td>4.528</td>\n",
       "      <td>NaN</td>\n",
       "    </tr>\n",
       "    <tr>\n",
       "      <th>10000.0</th>\n",
       "      <td>4.4184</td>\n",
       "      <td>NaN</td>\n",
       "    </tr>\n",
       "    <tr>\n",
       "      <th>100000.0</th>\n",
       "      <td>4.43944</td>\n",
       "      <td>NaN</td>\n",
       "    </tr>\n",
       "  </tbody>\n",
       "</table>\n",
       "</div>"
      ],
      "text/plain": [
       "         Aproximación Error relativo\n",
       "10.0              4.8            NaN\n",
       "100.0            5.12            NaN\n",
       "1000.0          4.528            NaN\n",
       "10000.0        4.4184            NaN\n",
       "100000.0      4.43944            NaN"
      ]
     },
     "execution_count": 16,
     "metadata": {},
     "output_type": "execute_result"
    }
   ],
   "source": [
    "for i in n:\n",
    "    tabla2.loc[i,'Aproximación']= montecarlo2(bernoulli,-3,1,1,3,int(i))\n",
    "    \n",
    "tabla2"
   ]
  },
  {
   "cell_type": "code",
   "execution_count": 17,
   "metadata": {},
   "outputs": [
    {
     "data": {
      "text/html": [
       "<div>\n",
       "<style scoped>\n",
       "    .dataframe tbody tr th:only-of-type {\n",
       "        vertical-align: middle;\n",
       "    }\n",
       "\n",
       "    .dataframe tbody tr th {\n",
       "        vertical-align: top;\n",
       "    }\n",
       "\n",
       "    .dataframe thead th {\n",
       "        text-align: right;\n",
       "    }\n",
       "</style>\n",
       "<table border=\"1\" class=\"dataframe\">\n",
       "  <thead>\n",
       "    <tr style=\"text-align: right;\">\n",
       "      <th></th>\n",
       "      <th>Aproximación</th>\n",
       "      <th>Error relativo</th>\n",
       "    </tr>\n",
       "  </thead>\n",
       "  <tbody>\n",
       "    <tr>\n",
       "      <th>10.0</th>\n",
       "      <td>4.8</td>\n",
       "      <td>0.816497</td>\n",
       "    </tr>\n",
       "    <tr>\n",
       "      <th>100.0</th>\n",
       "      <td>5.12</td>\n",
       "      <td>0.75</td>\n",
       "    </tr>\n",
       "    <tr>\n",
       "      <th>1000.0</th>\n",
       "      <td>4.528</td>\n",
       "      <td>0.875662</td>\n",
       "    </tr>\n",
       "    <tr>\n",
       "      <th>10000.0</th>\n",
       "      <td>4.4184</td>\n",
       "      <td>0.900339</td>\n",
       "    </tr>\n",
       "    <tr>\n",
       "      <th>100000.0</th>\n",
       "      <td>4.43944</td>\n",
       "      <td>0.895561</td>\n",
       "    </tr>\n",
       "  </tbody>\n",
       "</table>\n",
       "</div>"
      ],
      "text/plain": [
       "         Aproximación Error relativo\n",
       "10.0              4.8       0.816497\n",
       "100.0            5.12           0.75\n",
       "1000.0          4.528       0.875662\n",
       "10000.0        4.4184       0.900339\n",
       "100000.0      4.43944       0.895561"
      ]
     },
     "execution_count": 17,
     "metadata": {},
     "output_type": "execute_result"
    }
   ],
   "source": [
    "ax = -3\n",
    "bx = 1\n",
    "ay = 1\n",
    "by = 3\n",
    "\n",
    "AR = (bx-ax)*(by-ay)\n",
    "for i in n:\n",
    "    AD = tabla2[\"Aproximación\"][i]\n",
    "    c_rel= np.sqrt((1-(AD/AR))/(AD/AR))\n",
    "    tabla2[\"Error relativo\"][i] = c_rel \n",
    "    \n",
    "tabla2\n",
    "    "
   ]
  },
  {
   "cell_type": "code",
   "execution_count": null,
   "metadata": {},
   "outputs": [],
   "source": []
  },
  {
   "cell_type": "markdown",
   "metadata": {},
   "source": [
    "3. Describe 3 casos de uso de integración Montecarlo en tu ingeniería."
   ]
  },
  {
   "cell_type": "markdown",
   "metadata": {},
   "source": [
    "## Integración Montecarlo en las finanzas"
   ]
  },
  {
   "cell_type": "markdown",
   "metadata": {},
   "source": [
    "## Caso 1 <br>\n",
    "**Valorar proyectos empresariales y de inversión** <br>\n",
    "Los métodos de Monte Carlo son utilizados por analistas financieros que desean construir \"estocástico \" o probabilístico modelos financieros en contraposición a los tradicionales estáticos y determinista modelos. Aquí, con el fin de analizar las características de un proyecto valor presente neto (VAN), los componentes del flujo de efectivo que son (en gran medida) impactado por incertidumbre están modelados, incorporando cualquier correlación entre estos, reflejando matemáticamente sus \"características aleatorias\". Luego, estos resultados se combinan en un histograma de VPN (es decir, el Distribución de probabilidad ), y el VAN promedio de la inversión potencial, así como su volatilidad y otras sensibilidades. Esta distribución permite, por ejemplo, estimar la probabilidad de que el proyecto tenga un valor presente neto mayor que cero <br>\n",
    "\n",
    "## Caso 2\n",
    "**Valuación de opciones por Monte-Carlo** <br>\n",
    "Al valorar un opción sobre equidad, la simulación genera varios miles de rutas de precios posibles (pero aleatorias) para la acción subyacente, con el ejercicio valor (es decir, \"pago\") de la opción para cada ruta. Luego, estos pagos se promedian y descontado hasta hoy, y este resultado es el valor de la opción hoy. <br>\n",
    "\n",
    "## Caso 3\n",
    "**Activos financieros** <br>\n",
    "Ya que su comportamiento futuro tiene relación con su desempeño pasado y un factor aleatorio. Este elemento aleatorio es lo que se simula en el método Montercarlo. Por lo tanto, al simular el precio futuro con elementos de su comportamiento pasado y la influencia de factores aleatorios que lo rodean, podemos tener una idea del comportamiento que podría tener el activo financiero. Esto nos permite tomar precauciones si los activos simulados influyen en el desempeño de la empresa. "
   ]
  },
  {
   "cell_type": "code",
   "execution_count": null,
   "metadata": {},
   "outputs": [],
   "source": []
  }
 ],
 "metadata": {
  "kernelspec": {
   "display_name": "Python 3 (ipykernel)",
   "language": "python",
   "name": "python3"
  },
  "language_info": {
   "codemirror_mode": {
    "name": "ipython",
    "version": 3
   },
   "file_extension": ".py",
   "mimetype": "text/x-python",
   "name": "python",
   "nbconvert_exporter": "python",
   "pygments_lexer": "ipython3",
   "version": "3.9.12"
  }
 },
 "nbformat": 4,
 "nbformat_minor": 2
}
