{
 "cells": [
  {
   "cell_type": "markdown",
   "metadata": {},
   "source": [
    "# Tarea - Programación lineal"
   ]
  },
  {
   "cell_type": "markdown",
   "metadata": {},
   "source": [
    "### Diseño de la Dieta Óptima\n",
    "\n",
    "Se quiere producir comida para gatos de la manera más barata, no obstante se debe también asegurar que se cumplan los datos requeridos de analisis nutricional. Por lo que se quiere variar la cantidad de cada ingrediente para cumplir con los estandares nutricionales. Los requisitos que se tienen es que en $100$ gramos, se deben tener **por lo menos** $8$ gramos de proteína y $6$ gramos de grasa. Así mismo, no se debe tener más de $2$ gramos de fibra y $0.4$ gramos de sal.  \n",
    "\n",
    "Los datos nutricionales se pueden obtener de la siguiente tabla:\n",
    "\n",
    "Ingrediente|Proteína|Grasa|Fibra|Sal\n",
    ":----|----|----|----|----\n",
    "Pollo|  10.0%|08.0%|00.1%|00.2%\n",
    "Carne|  20.0%|10.0%|00.5%|00.5%\n",
    "Cordero|15.0%|11.0%|00.5%|00.7%\n",
    "Arroz|  00.0%|01.0%|10.0%|00.2%\n",
    "Trigo|  04.0%|01.0%|15.0%|00.8%\n",
    "Gel|    00.0%|00.0%|00.0%|00.0%\n",
    "\n",
    "Los costos de cada producto son:\n",
    "\n",
    "Ingrediente|Costo por gramo\n",
    ":----|----\n",
    "Pollo|$\\$$0.013\n",
    "Carne|$\\$$0.008\n",
    "Cordero|$\\$$0.010\n",
    "Arroz|$\\$$0.002\n",
    "Trigo|$\\$$0.005\n",
    "Gel|$\\$$0.001    \n",
    "\n",
    "Lo que se busca optimizar en este caso es la cantidad de productos que se debe utilizar en la comida de gato, minimizando el costo total. Para simplificar la notación use las siguientes variables: \n",
    "\n",
    "+ $x_1:$ Gramos de pollo  \n",
    "+ $x_2:$ Gramos de carne  \n",
    "+ $x_3:$ Gramos de cordero  \n",
    "+ $x_4:$ Gramos de arroz  \n",
    "+ $x_5:$ Gramos de trigo  \n",
    "+ $x_6:$ Gramos de gel\n",
    "\n",
    "La tarea consiste en plantear el problemade programación lineal que permita satisfacer las necesidades alimenticias del gato al tiempo que minimice el costo total y resolverlo con `linprog`."
   ]
  },
  {
   "cell_type": "code",
   "execution_count": 1,
   "metadata": {},
   "outputs": [],
   "source": [
    "import numpy as np\n",
    "import scipy.optimize as opt\n",
    "\n",
    "opt.linprog?"
   ]
  },
  {
   "cell_type": "code",
   "execution_count": 3,
   "metadata": {},
   "outputs": [
    {
     "data": {
      "text/plain": [
       "     con: array([3.05107051e-11])\n",
       "     fun: 0.5200000000216561\n",
       " message: 'Optimization terminated successfully.'\n",
       "     nit: 8\n",
       "   slack: array([4.00000000e+00, 7.70468134e-11, 1.70000000e+00, 1.00000000e-01])\n",
       "  status: 0\n",
       " success: True\n",
       "       x: array([4.50819667e-10, 6.00000000e+01, 4.08653405e-09, 2.29072691e-08,\n",
       "       3.70730010e-10, 4.00000000e+01])"
      ]
     },
     "execution_count": 3,
     "metadata": {},
     "output_type": "execute_result"
    }
   ],
   "source": [
    "c = np.array([0.013,\n",
    "              0.008,\n",
    "              0.01,\n",
    "              0.002,\n",
    "              0.005,\n",
    "              0.001])\n",
    "A = np.array([\n",
    "    [-0.1,-0.2,-0.15,0,-0.04,0],\n",
    "    [-0.08,-0.1,-0.11,-0.01,-0.01,0],\n",
    "    [0.001,0.005,0.005,0.1,0.15,0],\n",
    "    [0.002,0.005,0.007,0.002,0.008,0]\n",
    "])\n",
    "b = np.array([-8,-6,2,0.4])\n",
    "\n",
    "A_eq = np.array([\n",
    "    [1,1,1,1,1,1]\n",
    "])\n",
    "b_eq = np.array([100])\n",
    "\n",
    "opt.linprog(c,A,b,A_eq,b_eq)"
   ]
  },
  {
   "cell_type": "markdown",
   "metadata": {},
   "source": [
    "### Problema de distribución de energía eléctrica\n",
    "\n",
    "La Comisión Federal de Electricidad **(CFE)** dispone de tres plantas de generación para satisfacer la demanda diaria eléctrica en tres ciudades, Guadalajara, León y Morelia. Las plantas $1$, $2$ y $3$ pueden satisfacer $80$, $40$ y $60$ millones de KW al día respectivamente. Las necesidades de las ciudades de Guadalajara, León y Morelia son de $70$, $40$ y $70$ millones de Kw al día respectivamente. \n",
    "\n",
    "\n",
    "Los costos asociados al envío de suministro energético por cada millón de Kw entre cada planta y cada ciudad son los registrados en la siguiente tabla. \n",
    "\n",
    "-|Guadalajara|León|Morelia\n",
    ":----|----|----|----\n",
    "Planta 1|5|2|7\n",
    "Planta 2|3|6|6\n",
    "Planta 3|6|1|2\n",
    "\n",
    "Y por último, las restricciones del problema, van a estar dadas por las capacidades de oferta y demanda de cada planta (en millones de KW) y cada ciudad.\n",
    "\n",
    "Para simplificar la notación use las siguientes variables:\n",
    "\n",
    "+ $x_1$: Kw (en millones) distribuidos de la Planta 1 a Guadalajara\n",
    "+ $x_2$: Kw (en millones) distribuidos de la Planta 1 a León\n",
    "+ $x_3$: Kw (en millones) distribuidos de la Planta 1 a Morelia\n",
    "+ $x_4$: Kw (en millones) distribuidos de la Planta 2 a Guadalajara\n",
    "+ $x_5$: Kw (en millones) distribuidos de la Planta 2 a León\n",
    "+ $x_6$: Kw (en millones) distribuidos de la Planta 2 a Morelia\n",
    "+ $x_7$: Kw (en millones) distribuidos de la Planta 3 a Guadalajara\n",
    "+ $x_8$: Kw (en millones) distribuidos de la Planta 3 a León\n",
    "+ $x_9$: Kw (en millones) distribuidos de la Planta 3 a Morelia\n",
    "\n",
    "La tarea consiste en plantear el problema de programación lineal que permita satisfacer las necesidades de todas las ciudades al tiempo que minimice los costos asociados a la distribución y resolverlo con `linprog`."
   ]
  },
  {
   "cell_type": "code",
   "execution_count": 9,
   "metadata": {},
   "outputs": [],
   "source": [
    "import numpy as np\n",
    "import scipy.optimize as opt\n",
    "\n"
   ]
  },
  {
   "cell_type": "code",
   "execution_count": 10,
   "metadata": {},
   "outputs": [
    {
     "name": "stderr",
     "output_type": "stream",
     "text": [
      "/var/folders/zc/nh109mkj6pld9slq4vyqbcnm0000gn/T/ipykernel_719/2669640854.py:13: OptimizeWarning: Solving system with option 'cholesky':True failed. It is normal for this to happen occasionally, especially as the solution is approached. However, if you see this frequently, consider setting option 'cholesky' to False.\n",
      "  opt.linprog(c,A,b,A_eq,b_eq)\n",
      "/var/folders/zc/nh109mkj6pld9slq4vyqbcnm0000gn/T/ipykernel_719/2669640854.py:13: OptimizeWarning: Solving system with option 'sym_pos':True failed. It is normal for this to happen occasionally, especially as the solution is approached. However, if you see this frequently, consider setting option 'sym_pos' to False.\n",
      "  opt.linprog(c,A,b,A_eq,b_eq)\n"
     ]
    },
    {
     "data": {
      "text/plain": [
       "     con: array([1.83339921e-09, 1.01142916e-09, 1.83554505e-09])\n",
       "     fun: 539.9999999871072\n",
       " message: 'Optimization terminated successfully.'\n",
       "     nit: 6\n",
       "   slack: array([2.10690132e-09, 1.01807274e-09, 1.55539936e-09])\n",
       "  status: 0\n",
       " success: True\n",
       "       x: array([3.00000000e+01, 4.00000000e+01, 1.00000000e+01, 4.00000000e+01,\n",
       "       1.09701920e-10, 2.70241154e-11, 5.71145230e-11, 7.62290809e-11,\n",
       "       6.00000000e+01])"
      ]
     },
     "execution_count": 10,
     "metadata": {},
     "output_type": "execute_result"
    }
   ],
   "source": [
    "c = np.array([5,2,7,3,6,6,6,1,2])\n",
    "A = np.array([\n",
    "    [1,1,1,0,0,0,0,0,0],[0,0,0,1,1,1,0,0,0],[0,0,0,0,0,0,1,1,1]\n",
    "])\n",
    "b = np.array([80,40,60])\n",
    "\n",
    "A_eq = np.array([\n",
    "    [1,0,0,1,0,0,1,0,0],\n",
    "    [0,1,0,0,1,0,0,1,0],\n",
    "    [0,0,1,0,0,1,0,0,1]\n",
    "])\n",
    "b_eq = ([70,40,70])\n",
    "opt.linprog(c,A,b,A_eq,b_eq)\n"
   ]
  },
  {
   "cell_type": "markdown",
   "metadata": {},
   "source": [
    "### Planta 1:\n",
    "Distribuye: \n",
    "- 30 millones de Kw a Guadalajara.\n",
    "- 40 millones de Kw a León.\n",
    "- 10 millones de Kw a MOrelia.\n",
    "**Total: 80 millones de Kw (Capacidad máxima).**\n",
    "\n",
    "### Planta 2:\n",
    "Distribuye:\n",
    "- 40 millones de Kw a Guadalajara.\n",
    "**Total: 40 millones de Kw (Capacidad máxima).**\n",
    "\n",
    "### Planta 3:\n",
    "Distribuye:\n",
    "- 60 millones de Kw a Morelia.\n",
    "**Total: 60 millones de Kw (Capacidad máxima).**\n",
    "\n",
    "### Guadalajara:\n",
    "Recibe:\n",
    "- 30 millones de Kw de la planta 1.\n",
    "- 40 millones de Kw de la planta 2.\n",
    "**Total recibido: 70 millones de Kw (Satisfecha).**\n",
    "\n",
    "### León\n",
    "Recibe:\n",
    "- 40 millones de la planta 1.\n",
    "**Total recibido: 40 millones de Kw (Satisfecha).**\n",
    "\n",
    "### Morelia\n",
    "Recibe:\n",
    "- 60 millones de Kw de la planta 3.\n",
    "**Total recibido: 60 millones de Kw (Satisfecha).**"
   ]
  },
  {
   "cell_type": "code",
   "execution_count": null,
   "metadata": {},
   "outputs": [],
   "source": []
  }
 ],
 "metadata": {
  "kernelspec": {
   "display_name": "Python 3 (ipykernel)",
   "language": "python",
   "name": "python3"
  },
  "language_info": {
   "codemirror_mode": {
    "name": "ipython",
    "version": 3
   },
   "file_extension": ".py",
   "mimetype": "text/x-python",
   "name": "python",
   "nbconvert_exporter": "python",
   "pygments_lexer": "ipython3",
   "version": "3.9.12"
  }
 },
 "nbformat": 4,
 "nbformat_minor": 2
}
